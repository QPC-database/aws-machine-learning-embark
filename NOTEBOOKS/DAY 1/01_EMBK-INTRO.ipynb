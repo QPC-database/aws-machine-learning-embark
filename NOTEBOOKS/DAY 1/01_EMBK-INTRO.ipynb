{
 "cells": [
  {
   "cell_type": "markdown",
   "metadata": {},
   "source": [
    "\n",
    "## SageMaker Notebook Introduction\n",
    "\n",
    "In this notebook, we go through basic steps of how to use SageMaker instances and look at how Python runs inside Jupyter notebooks*.\n",
    "\n",
    "1. <a href=\"#1\">Data Types</a>\n",
    "2. <a href=\"#2\">Indexing</a>\n",
    "3. <a href=\"#3\">If-Statements</a>\n",
    "4. <a href=\"#5\">Functions</a>\n",
    "\n",
    "    \n",
    "(*) __Jupiter notebooks environment__: \n",
    "* [Jupiter notebooks](https://jupyter-notebook-beginner-guide.readthedocs.io/en/latest/what_is_jupyter.html) allow creating and sharing documents that contain both code and rich text element, such as equations. \n",
    "* This is a quick-start demo to bring you up to speed on coding and experimenting with machine learning. Move through the notebook from top to bottom. Run each code cell to see its output. To run a cell, click within the cell and press __Shift__+__Enter__, or click __Run__ at the top of the page. \n",
    "\n",
    "To import libraries use `import <LIBRARY>`. It is common to re-label libraries that have long names, e.g. `import pandas as pd` - especially when you plan to use the library a lot."
   ]
  },
  {
   "cell_type": "markdown",
   "metadata": {},
   "source": [
    "## 1. Data Types\n",
    "\n",
    "We distinguish between 5 main data types:\n",
    "\n",
    "* __Text__:\tstr\n",
    "* __Numeric__:\tint, float, complex\n",
    "* __Sequence__:\tlist, tuple, range\n",
    "* __Mapping__:\tdict\n",
    "* __Boolean__:\tbool\n",
    "\n",
    "You can get the data type of any object by using the `type()` function (see examples below). To print in Python, you can use `print(\"some string\")`.\n",
    "\n"
   ]
  },
  {
   "cell_type": "code",
   "execution_count": 16,
   "metadata": {},
   "outputs": [
    {
     "name": "stdout",
     "output_type": "stream",
     "text": [
      "This is some text. <class 'str'>\n"
     ]
    }
   ],
   "source": [
    "# Assigning a text string\n",
    "x = \"This is some text.\"\n",
    "print(x, type(x))"
   ]
  },
  {
   "cell_type": "code",
   "execution_count": 2,
   "metadata": {},
   "outputs": [
    {
     "name": "stdout",
     "output_type": "stream",
     "text": [
      "1 <class 'int'>\n"
     ]
    }
   ],
   "source": [
    "# Assigning an integer variable\n",
    "x = 1\n",
    "print(x, type(x))"
   ]
  },
  {
   "cell_type": "code",
   "execution_count": 3,
   "metadata": {},
   "outputs": [
    {
     "name": "stdout",
     "output_type": "stream",
     "text": [
      "1.0 <class 'float'>\n"
     ]
    }
   ],
   "source": [
    "# Assigning a float variable\n",
    "x = 1.0\n",
    "print(x, type(x))"
   ]
  },
  {
   "cell_type": "code",
   "execution_count": 9,
   "metadata": {},
   "outputs": [
    {
     "name": "stdout",
     "output_type": "stream",
     "text": [
      "[1, 2, 3, 4.0] <class 'list'>\n"
     ]
    }
   ],
   "source": [
    "# Assigning a list variable - this can contain mixed types\n",
    "x = [1,2,3,4.0]\n",
    "print(x, type(x))"
   ]
  },
  {
   "cell_type": "code",
   "execution_count": 7,
   "metadata": {},
   "outputs": [
    {
     "name": "stdout",
     "output_type": "stream",
     "text": [
      "True <class 'bool'>\n"
     ]
    }
   ],
   "source": [
    "# Assigning a boolean variable\n",
    "x = True\n",
    "print(x, type(x))"
   ]
  },
  {
   "cell_type": "code",
   "execution_count": 12,
   "metadata": {},
   "outputs": [
    {
     "name": "stdout",
     "output_type": "stream",
     "text": [
      "{'item': 'ball', 'size': 5} <class 'dict'>\n"
     ]
    }
   ],
   "source": [
    "# Assigning a dictionary - this can contain mixed types\n",
    "x = {'item':'ball', 'size':5}\n",
    "print(x, type(x))"
   ]
  },
  {
   "cell_type": "markdown",
   "metadata": {},
   "source": [
    "Dictionaries constist of keys and values. They can be nested. To get the keys of a dictionary, you can call `x.keys()`."
   ]
  },
  {
   "cell_type": "markdown",
   "metadata": {},
   "source": [
    "## 2. Indexing\n",
    "\n",
    "Indexing and slicing from lists or dataframes allow us to retrieve specific values. In Python, index counting starts with 0. However, indices can be positive or negative (-1 and lower, where -1 is the last item in the list or dataframe)."
   ]
  },
  {
   "cell_type": "code",
   "execution_count": 10,
   "metadata": {},
   "outputs": [
    {
     "name": "stdout",
     "output_type": "stream",
     "text": [
      "x[0]:  9\n",
      "x[-1]:  hello world\n",
      "x[-2]:  True\n"
     ]
    }
   ],
   "source": [
    "# Indexing\n",
    "x = [9, True, \"hello world\"]\n",
    "print (\"x[0]: \", x[0])\n",
    "print (\"x[-1]: \", x[-1]) # the last item\n",
    "print (\"x[-2]: \", x[-2]) # the second to last item"
   ]
  },
  {
   "cell_type": "markdown",
   "metadata": {},
   "source": [
    "## 3. If-Statements\n",
    "\n",
    "You can use `if` statements to trigger actions based on conditions that have to be met (and also define an action when the condition isn't met). The conditions are defined by the keywords `if`, `elif` (short for else if) and `else` (catch all when neither if or elif apply). To check if the condition is met, you link the keywords with conditional operators, `== (is equal to)`, `> (greater)`, `< (smaller)`, `!= (not equal)`.\n",
    "\n",
    "You can nest as many if statements as required. See an example below."
   ]
  },
  {
   "cell_type": "code",
   "execution_count": 15,
   "metadata": {},
   "outputs": [
    {
     "name": "stdout",
     "output_type": "stream",
     "text": [
      "Condition met!\n"
     ]
    }
   ],
   "source": [
    "x = True\n",
    "\n",
    "if x == True:\n",
    "    print('Condition met!')\n",
    "else:\n",
    "    print('Condition not met.')"
   ]
  },
  {
   "cell_type": "markdown",
   "metadata": {},
   "source": [
    "## 4. Functions\n",
    "\n",
    "Functions is a block of code that is used to perform a small task. Functions only run when they are called and they can take inputs to either perform some action or return data.\n",
    "\n",
    "A function in Python is defined through the `def` keyword:\n"
   ]
  },
  {
   "cell_type": "code",
   "execution_count": 18,
   "metadata": {},
   "outputs": [],
   "source": [
    "def hello_world():\n",
    "    print(\"Hello world!\")"
   ]
  },
  {
   "cell_type": "markdown",
   "metadata": {},
   "source": [
    "Notice how executing the cell above did not trigger the print statement. That is because it is inside the function and can only be accessed if the function is called:"
   ]
  },
  {
   "cell_type": "code",
   "execution_count": 19,
   "metadata": {},
   "outputs": [
    {
     "name": "stdout",
     "output_type": "stream",
     "text": [
      "Hello world!\n"
     ]
    }
   ],
   "source": [
    "hello_world()"
   ]
  },
  {
   "cell_type": "markdown",
   "metadata": {},
   "source": [
    "Functions can take inputs to perform actions on them; the inputs need to be defined for the function to use them:"
   ]
  },
  {
   "cell_type": "code",
   "execution_count": 21,
   "metadata": {},
   "outputs": [],
   "source": [
    "def hello_world(input_var):\n",
    "    print(\"Hello world - my input is %s\" % str(input_var))"
   ]
  },
  {
   "cell_type": "code",
   "execution_count": 23,
   "metadata": {},
   "outputs": [
    {
     "name": "stdout",
     "output_type": "stream",
     "text": [
      "Hello world - my input is test.\n"
     ]
    }
   ],
   "source": [
    "hello_world(\"test.\")"
   ]
  },
  {
   "cell_type": "markdown",
   "metadata": {},
   "source": [
    "Functions can also return data that can be stored in new variables. The function is prompted to return an output with the `return` statement:"
   ]
  },
  {
   "cell_type": "code",
   "execution_count": 24,
   "metadata": {},
   "outputs": [],
   "source": [
    "def hello_world(input_var):\n",
    "    output = \"Hello world - my input is %s\" % str(input_var)\n",
    "    return output"
   ]
  },
  {
   "cell_type": "code",
   "execution_count": 28,
   "metadata": {},
   "outputs": [],
   "source": [
    "x = hello_world(\"second test.\")"
   ]
  },
  {
   "cell_type": "code",
   "execution_count": 29,
   "metadata": {},
   "outputs": [
    {
     "data": {
      "text/plain": [
       "'Hello world - my input is second test.'"
      ]
     },
     "execution_count": 29,
     "metadata": {},
     "output_type": "execute_result"
    }
   ],
   "source": [
    "x"
   ]
  }
 ],
 "metadata": {
  "kernelspec": {
   "display_name": "Python 3",
   "language": "python",
   "name": "python3"
  },
  "language_info": {
   "codemirror_mode": {
    "name": "ipython",
    "version": 3
   },
   "file_extension": ".py",
   "mimetype": "text/x-python",
   "name": "python",
   "nbconvert_exporter": "python",
   "pygments_lexer": "ipython3",
   "version": "3.8.5"
  }
 },
 "nbformat": 4,
 "nbformat_minor": 4
}
