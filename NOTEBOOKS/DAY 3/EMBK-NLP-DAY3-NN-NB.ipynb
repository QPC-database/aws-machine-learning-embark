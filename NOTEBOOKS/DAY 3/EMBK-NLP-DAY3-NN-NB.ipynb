{
 "cells": [
  {
   "cell_type": "markdown",
   "metadata": {},
   "source": [
    "## Neural Networks with Gluon\n",
    "\n",
    "In this notebook, we build, train and validate a Neural Network in Gluon. "
   ]
  },
  {
   "cell_type": "markdown",
   "metadata": {},
   "source": [
    "### 1. Implementing a neural network with Gluon"
   ]
  },
  {
   "cell_type": "markdown",
   "metadata": {},
   "source": [
    "Let's implement a simple neural network with two hidden layers of size 64 and 128 using the sequential mode (Adding things in sequence). We will have 3 inputs, 2 hidden layers and 1 output layer. Some drop-outs attached to the hidden layers."
   ]
  },
  {
   "cell_type": "code",
   "execution_count": 1,
   "metadata": {},
   "outputs": [
    {
     "name": "stdout",
     "output_type": "stream",
     "text": [
      "Sequential(\n",
      "  (0): Dense(3 -> 64, Activation(tanh))\n",
      "  (1): Dropout(p = 0.4, axes=())\n",
      "  (2): Dense(None -> 128, Activation(tanh))\n",
      "  (3): Dropout(p = 0.3, axes=())\n",
      "  (4): Dense(None -> 1, linear)\n",
      ")\n"
     ]
    }
   ],
   "source": [
    "from mxnet.gluon import nn\n",
    "\n",
    "net = nn.Sequential()\n",
    "\n",
    "net.add(nn.Dense(64,                    # Dense layer-1 with 64 units\n",
    "                 in_units=3,            # Input size of 3 is expected\n",
    "                 activation='tanh'),    # Tanh activation is applied\n",
    "        nn.Dropout(.4),                 # Apply random 40% drop-out to layer_1\n",
    "        \n",
    "        nn.Dense(128,                   # Dense layer-2 with 128 units  \n",
    "                 activation='tanh'      # Tanh activation is applied\n",
    "                ),\n",
    "        nn.Dropout(.3),                 # Apply random 30% drop-out to layer_2\n",
    "        \n",
    "        nn.Dense(1))                    # Output layer with single unit\n",
    "\n",
    "print(net)"
   ]
  },
  {
   "cell_type": "markdown",
   "metadata": {},
   "source": [
    "We can initialize the weights of the network with 'initialize()' function. We prefer to use the following:"
   ]
  },
  {
   "cell_type": "code",
   "execution_count": 2,
   "metadata": {},
   "outputs": [],
   "source": [
    "from mxnet import init\n",
    "\n",
    "net.initialize(init=init.Xavier())"
   ]
  },
  {
   "cell_type": "markdown",
   "metadata": {},
   "source": [
    "Let's look at our layers and dropouts on them. We can easily access them wth net[layer_index]"
   ]
  },
  {
   "cell_type": "code",
   "execution_count": 3,
   "metadata": {},
   "outputs": [
    {
     "name": "stdout",
     "output_type": "stream",
     "text": [
      "Dense(3 -> 64, Activation(tanh))\n",
      "Dropout(p = 0.4, axes=())\n",
      "Dense(None -> 128, Activation(tanh))\n",
      "Dropout(p = 0.3, axes=())\n",
      "Dense(None -> 1, linear)\n"
     ]
    }
   ],
   "source": [
    "print(net[0])\n",
    "print(net[1])\n",
    "print(net[2])\n",
    "print(net[3])\n",
    "print(net[4])"
   ]
  },
  {
   "cell_type": "markdown",
   "metadata": {},
   "source": [
    "### 2. Loss Functions:\n",
    "\n",
    "We will go over some popular loss functions here. We can select loss functions according to our problem.  <br/>\n",
    "__Binary Cross-entropy Loss:__ A common loss function binary classification. It is given by: \n",
    "\\begin{align}\n",
    "-\\frac{1}{n}\\sum_{examples}{(y\\log(p) + (1 - y)\\log(1 - p))}\n",
    "\\end{align}\n",
    "where p is the prediction (between 0 and 1, ie. 0.831) and y is the true class (either 1 or 0). \n",
    "\n",
    "In gluon, we can use binary cross entropy with `SigmoidBinaryCrossEntropyLoss`. It also applies sigmoid function on the predictions. Therefore, p is always between 0 and 1. <br/>\n",
    "```python\n",
    "from mxnet.gluon.loss import SigmoidBinaryCrossEntropyLoss\n",
    "loss = SigmoidBinaryCrossEntropyLoss()\n",
    "```\n",
    "__Categorical Cross-entropy Loss:__ It is used for multi-class classification. We apply the softmax function on prediction probabilities and then extend the equation of binary cross-entropy. After the softmax function, summation of the predictions are equal to 1. For example: Assuming three classes, p_0= 0.22, p_1= 0.60 and p_2= 0.18 Equation is below. y becomes 1 for true class and 0 for other classes.\n",
    "\\begin{align} \n",
    "-\\frac{1}{n}\\sum_{examples}\\sum_{classes}{y_j\\log(p_j)}\n",
    "\\end{align}\n",
    "In gluon, `SoftmaxCrossEntropyLoss` implements the categorical cross-entropy loss with softmax function <br/>\n",
    "```python\n",
    "from mxnet.gluon.loss import SoftmaxCrossEntropyLoss\n",
    "loss = SoftmaxCrossEntropyLoss()\n",
    "```\n",
    "__Mean Squared Error (MSE):__ Used for regression problems. It is also called the \"L2 loss\". It measures mean the squared difference between target values (y) and predictions (p). Here, square makes sure the offsets with different signs don't cancel out each other.\n",
    "\\begin{align}\n",
    "-\\frac{1}{n}\\sum_{examples}{(y-p)^2}\n",
    "\\end{align}\n",
    "In gluon, we can use it with `L2Loss`: <br/>\n",
    "```python\n",
    "from mxnet.gluon.loss import L2Loss\n",
    "loss = L2Loss()\n",
    "```\n",
    "__Mean Absolute Error (MAE):__ Slightly different version of MSE. It is also called the \"L1 loss\". It measures the abolsute difference between target values (y) and predictions (p). Again, the absolute operation gets rid of the sign and the offsets with different signs don't cancel out each other.\n",
    "\\begin{align}\n",
    "-\\frac{1}{n}\\sum_{examples}{abs(y-p)}\n",
    "\\end{align}\n",
    "In gluon, we can use it with `L1Loss`: <br/>\n",
    "```python\n",
    "from mxnet.gluon.loss import L1Loss\n",
    "loss = L1Loss()\n",
    "```"
   ]
  },
  {
   "cell_type": "markdown",
   "metadata": {},
   "source": [
    "### 3. Training:\n",
    "\n",
    "`mxnet.gluon.Trainer()` module provides necessary training algorithms for neural networks. We can use the following for training a network using Stochastic Gradient Descent method and learning rate of 0.001.\n",
    "\n",
    "```python\n",
    "from mxnet import gluon\n",
    "\n",
    "trainer = gluon.Trainer(net.collect_params(),\n",
    "                        'sgd', \n",
    "                        {'learning_rate': 0.001}\n",
    "                       )\n",
    "```"
   ]
  },
  {
   "cell_type": "markdown",
   "metadata": {},
   "source": [
    "### 4. Example - Binary Classification\n",
    "\n",
    "Let's train a neural network on a random dataset. We have two classes and will learn to classify them."
   ]
  },
  {
   "cell_type": "code",
   "execution_count": 4,
   "metadata": {},
   "outputs": [],
   "source": [
    "from sklearn.datasets import make_circles\n",
    "\n",
    "X, y = make_circles(n_samples=750, shuffle=True, random_state=42, noise=0.05, factor=0.3)"
   ]
  },
  {
   "cell_type": "markdown",
   "metadata": {},
   "source": [
    "Let's plot the dataset"
   ]
  },
  {
   "cell_type": "code",
   "execution_count": 5,
   "metadata": {},
   "outputs": [
    {
     "data": {
      "image/png": "[encoded data removed]",
      "text/plain": [
       "<Figure size 432x288 with 1 Axes>"
      ]
     },
     "metadata": {},
     "output_type": "display_data"
    }
   ],
   "source": [
    "%matplotlib inline\n",
    "import matplotlib.pyplot as plt\n",
    "import seaborn as sns\n",
    "\n",
    "def plot_dataset(X, y, title):\n",
    "    \n",
    "    # Activate Seaborn visualization\n",
    "    sns.set()\n",
    "    \n",
    "    # Plot both classes: Class1->Blue, Class2->Red\n",
    "    plt.scatter(X[y==1, 0], X[y==1, 1], c='blue', label=\"class 1\")\n",
    "    plt.scatter(X[y==0, 0], X[y==0, 1], c='red', label=\"class 2\")\n",
    "    plt.legend(loc='upper right')\n",
    "    plt.xlabel('x1')\n",
    "    plt.ylabel('x2')\n",
    "    plt.xlim(-2, 2)\n",
    "    plt.ylim(-2, 2)\n",
    "    plt.title(title)\n",
    "    plt.show()\n",
    "    \n",
    "plot_dataset(X, y, title=\"Dataset\")"
   ]
  },
  {
   "cell_type": "markdown",
   "metadata": {},
   "source": [
    "We are creating the network below. We will have two hidden layers. Since the data seems easily seperable, we can have a small network with 10 units at each layer."
   ]
  },
  {
   "cell_type": "code",
   "execution_count": 6,
   "metadata": {},
   "outputs": [],
   "source": [
    "from mxnet import init\n",
    "from mxnet.gluon import nn\n",
    "\n",
    "net = nn.Sequential()\n",
    "net.add(nn.Dense(10, in_units=2, activation='relu'),\n",
    "        nn.Dense(10, activation='relu'),\n",
    "        nn.Dense(1, activation='sigmoid'))\n",
    "net.initialize(init=init.Xavier())"
   ]
  },
  {
   "cell_type": "markdown",
   "metadata": {},
   "source": [
    "Let's start the training process. We will have training and validation sets and print our losses at each step."
   ]
  },
  {
   "cell_type": "code",
   "execution_count": 7,
   "metadata": {
    "scrolled": true
   },
   "outputs": [
    {
     "name": "stdout",
     "output_type": "stream",
     "text": [
      "Epoch 0: training loss 0.717, validation loss 0.707, in 1.1 sec\n",
      "Epoch 1: training loss 0.698, validation loss 0.695, in 1.0 sec\n",
      "Epoch 2: training loss 0.684, validation loss 0.681, in 1.0 sec\n",
      "Epoch 3: training loss 0.670, validation loss 0.668, in 1.0 sec\n",
      "Epoch 4: training loss 0.653, validation loss 0.648, in 1.0 sec\n",
      "Epoch 5: training loss 0.633, validation loss 0.628, in 1.0 sec\n",
      "Epoch 6: training loss 0.611, validation loss 0.606, in 1.1 sec\n",
      "Epoch 7: training loss 0.589, validation loss 0.583, in 1.0 sec\n",
      "Epoch 8: training loss 0.564, validation loss 0.557, in 0.9 sec\n",
      "Epoch 9: training loss 0.537, validation loss 0.528, in 1.0 sec\n",
      "Epoch 10: training loss 0.505, validation loss 0.495, in 1.0 sec\n",
      "Epoch 11: training loss 0.470, validation loss 0.458, in 1.0 sec\n",
      "Epoch 12: training loss 0.432, validation loss 0.417, in 1.0 sec\n",
      "Epoch 13: training loss 0.391, validation loss 0.374, in 1.0 sec\n",
      "Epoch 14: training loss 0.350, validation loss 0.330, in 1.0 sec\n",
      "Epoch 15: training loss 0.309, validation loss 0.290, in 1.0 sec\n",
      "Epoch 16: training loss 0.272, validation loss 0.253, in 1.0 sec\n",
      "Epoch 17: training loss 0.239, validation loss 0.221, in 1.0 sec\n",
      "Epoch 18: training loss 0.209, validation loss 0.195, in 1.0 sec\n",
      "Epoch 19: training loss 0.184, validation loss 0.171, in 1.0 sec\n",
      "Epoch 20: training loss 0.157, validation loss 0.139, in 1.0 sec\n",
      "Epoch 21: training loss 0.123, validation loss 0.109, in 1.0 sec\n",
      "Epoch 22: training loss 0.098, validation loss 0.088, in 1.0 sec\n",
      "Epoch 23: training loss 0.079, validation loss 0.072, in 1.0 sec\n",
      "Epoch 24: training loss 0.065, validation loss 0.060, in 1.0 sec\n",
      "Epoch 25: training loss 0.054, validation loss 0.051, in 1.0 sec\n",
      "Epoch 26: training loss 0.046, validation loss 0.044, in 1.0 sec\n",
      "Epoch 27: training loss 0.040, validation loss 0.038, in 1.0 sec\n",
      "Epoch 28: training loss 0.034, validation loss 0.034, in 1.0 sec\n",
      "Epoch 29: training loss 0.030, validation loss 0.030, in 1.0 sec\n",
      "Epoch 30: training loss 0.027, validation loss 0.027, in 1.1 sec\n",
      "Epoch 31: training loss 0.024, validation loss 0.024, in 1.0 sec\n",
      "Epoch 32: training loss 0.022, validation loss 0.022, in 1.0 sec\n",
      "Epoch 33: training loss 0.020, validation loss 0.020, in 1.0 sec\n",
      "Epoch 34: training loss 0.018, validation loss 0.019, in 1.0 sec\n",
      "Epoch 35: training loss 0.017, validation loss 0.017, in 1.0 sec\n",
      "Epoch 36: training loss 0.015, validation loss 0.016, in 1.0 sec\n",
      "Epoch 37: training loss 0.014, validation loss 0.015, in 1.1 sec\n",
      "Epoch 38: training loss 0.013, validation loss 0.014, in 1.0 sec\n",
      "Epoch 39: training loss 0.012, validation loss 0.013, in 1.0 sec\n",
      "Epoch 40: training loss 0.012, validation loss 0.012, in 1.0 sec\n",
      "Epoch 41: training loss 0.011, validation loss 0.012, in 1.0 sec\n",
      "Epoch 42: training loss 0.010, validation loss 0.011, in 1.0 sec\n",
      "Epoch 43: training loss 0.010, validation loss 0.010, in 1.0 sec\n",
      "Epoch 44: training loss 0.009, validation loss 0.010, in 1.0 sec\n",
      "Epoch 45: training loss 0.009, validation loss 0.009, in 1.0 sec\n",
      "Epoch 46: training loss 0.008, validation loss 0.009, in 1.0 sec\n",
      "Epoch 47: training loss 0.008, validation loss 0.009, in 1.0 sec\n",
      "Epoch 48: training loss 0.008, validation loss 0.008, in 1.0 sec\n",
      "Epoch 49: training loss 0.007, validation loss 0.008, in 1.0 sec\n"
     ]
    }
   ],
   "source": [
    "# Importing the necessary libraries\n",
    "import time\n",
    "import mxnet as mx\n",
    "from mxnet import gluon, autograd\n",
    "import mxnet.ndarray as nd\n",
    "from mxnet.gluon.loss import SigmoidBinaryCrossEntropyLoss\n",
    "\n",
    "batch_size = 4           # How many samples to use for each weight update \n",
    "epochs = 50              # Total number of iterations\n",
    "learning_rate = 0.01     # Learning rate\n",
    "context = mx.cpu()       # Using CPU resource\n",
    "\n",
    "# Define the loss and trainer.\n",
    "binary_cross_loss = SigmoidBinaryCrossEntropyLoss(from_sigmoid=True)\n",
    "trainer = gluon.Trainer(net.collect_params(),\n",
    "                        'sgd',\n",
    "                        {'learning_rate': learning_rate}\n",
    "                       )\n",
    "\n",
    "# Splitting the dataset into two parts: 80%-20% split\n",
    "X_train, X_val = X[0:int(len(X)*0.8), :], X[int(len(X)*0.8):, :]\n",
    "y_train, y_val = y[:int(len(X)*0.8)], y[int(len(X)*0.8):]\n",
    "\n",
    "train_losses = []\n",
    "val_losses = []\n",
    "\n",
    "# Starting the outer loop, we will have 50 epochs \n",
    "for epoch in range(epochs):\n",
    "    # Start the timer\n",
    "    tic = time.time()\n",
    "    \n",
    "    # Training loop: (with autograd and trainer steps, etc.)\n",
    "    # This loop does the training of the neural network (weights are updated)\n",
    "    cumulative_train_loss = 0\n",
    "    for i in range(0, len(X_train), batch_size):\n",
    "        data = nd.array(X_train[i:i + batch_size], dtype='float32').as_in_context(context)\n",
    "        label = nd.array(y_train[i:i + batch_size]).as_in_context(context)\n",
    "        with autograd.record():\n",
    "            output = net(data)\n",
    "            # Let's calculate our loss and add it to our cumulative loss\n",
    "            loss = binary_cross_loss(output, label)\n",
    "            cumulative_train_loss = cumulative_train_loss + nd.sum(loss).asscalar()\n",
    "        loss.backward()\n",
    "        trainer.step(batch_size=batch_size)\n",
    "        \n",
    "    # Calculating average loss for training data\n",
    "    train_loss = cumulative_train_loss/len(X_train)\n",
    "    train_losses.append(train_loss)\n",
    "    \n",
    "    # Getting validation performance\n",
    "    val_data = nd.array(X_val, dtype='float32').as_in_context(context)\n",
    "    val_label = nd.array(y_val).as_in_context(context)\n",
    "    val_out = net(val_data)\n",
    "    val_predictions = mx.nd.round(val_out) # Round up (1) or down (0) predictions\n",
    "    \n",
    "    # Calculating average loss for validation data\n",
    "    val_loss = nd.sum(binary_cross_loss(val_out, val_label)).asscalar() / len(val_label)\n",
    "    val_losses.append(val_loss)\n",
    "    \n",
    "    # Print loss for each epoch\n",
    "    print(\"Epoch %d: training loss %.3f, validation loss %.3f, in %.1f sec\" % (\n",
    "        epoch, train_loss, val_loss, time.time()-tic))"
   ]
  },
  {
   "cell_type": "markdown",
   "metadata": {},
   "source": [
    "Let's see the validation predictions."
   ]
  },
  {
   "cell_type": "code",
   "execution_count": 8,
   "metadata": {},
   "outputs": [
    {
     "data": {
      "image/png": "[encoded data removed]",
      "text/plain": [
       "<Figure size 432x288 with 1 Axes>"
      ]
     },
     "metadata": {},
     "output_type": "display_data"
    }
   ],
   "source": [
    "plot_dataset(X_val,\n",
    "             val_predictions.asnumpy().reshape(val_predictions.shape[0],),\n",
    "             \"Validation prediction, epoch:\" + str(epoch))"
   ]
  },
  {
   "cell_type": "markdown",
   "metadata": {},
   "source": [
    "Let's see the training and validation loss plots below. Losses go down as the training process continues as expected."
   ]
  },
  {
   "cell_type": "code",
   "execution_count": 9,
   "metadata": {},
   "outputs": [
    {
     "data": {
      "image/png": "[encoded data removed]",
      "text/plain": [
       "<Figure size 432x288 with 1 Axes>"
      ]
     },
     "metadata": {},
     "output_type": "display_data"
    }
   ],
   "source": [
    "%matplotlib inline\n",
    "import matplotlib.pyplot as plt\n",
    "import seaborn as sns\n",
    "\n",
    "plt.plot(train_losses, label=\"Training Loss\")\n",
    "plt.plot(val_losses, label=\"Validation Loss\")\n",
    "plt.title(\"Loss values\")\n",
    "plt.xlabel(\"Epoch\")\n",
    "plt.ylabel(\"Loss\")\n",
    "plt.legend()\n",
    "plt.show()"
   ]
  },
  {
   "cell_type": "markdown",
   "metadata": {},
   "source": [
    "### 5. Natural Language Processing Context:\n",
    "\n",
    "If we want to use the same type of architecture for text classification, we need to apply some feature extraction methods first. For example: We can get TF-IDF vectors of text fields. After that, we can use neural networks on those features. \n",
    "\n",
    "We will also look at __more advanced neural network architrectures__ such as __Recurrent Neural Networks (RNNs)__, __Long Short-Term Memory networks (LSTMs)__ and __Transformers__. "
   ]
  }
 ],
 "metadata": {
  "kernelspec": {
   "display_name": "conda_mxnet_p36",
   "language": "python",
   "name": "conda_mxnet_p36"
  },
  "language_info": {
   "codemirror_mode": {
    "name": "ipython",
    "version": 3
   },
   "file_extension": ".py",
   "mimetype": "text/x-python",
   "name": "python",
   "nbconvert_exporter": "python",
   "pygments_lexer": "ipython3",
   "version": "3.6.5"
  }
 },
 "nbformat": 4,
 "nbformat_minor": 2
}
