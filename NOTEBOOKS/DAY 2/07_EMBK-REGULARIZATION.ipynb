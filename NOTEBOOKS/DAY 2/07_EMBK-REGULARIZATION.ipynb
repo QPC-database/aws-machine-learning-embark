{
 "cells": [
  {
   "cell_type": "markdown",
   "metadata": {},
   "source": [
    "## Linear Regression Models and Regularization\n",
    "\n",
    "In this notebook, we go over Linear Regression methods (with and without regularization: LinearRegression, Ridge, Lasso, ElasticNet) to predict the __log_votes__ field of our Amazon Product Review dataset. \n",
    "\n",
    "1. <a href=\"#1\">Read the dataset</a>\n",
    "2. <a href=\"#2\">Exploratory Data Analysis</a>\n",
    "3. <a href=\"#3\">Select features to build the model</a>\n",
    "4. <a href=\"#4\">Training and test datasets</a>\n",
    "5. <a href=\"#5\">Data processing using Bag of Words</a>\n",
    "6. <a href=\"#6\">Train a regressor</a>\n",
    "7. <a href=\"#7\">Test the regressor</a>\n",
    "8. <a href=\"#8\">Improvement ideas</a>\n",
    "\n",
    "\n",
    "\n",
    "*Find more details on the classical Linear Regression models with and without regularization [here](https://scikit-learn.org/stable/modules/classes.html#module-sklearn.linear_model).*\n",
    "\n",
    "__Amazon Product Review Dataset__:\n",
    "\n",
    "In this exercise, we are working with a product review dataset from Amazon. The raw data is available [here](https://nijianmo.github.io/amazon/index.html). You can find this dataset under `DATA/product-reviews`: Amazon_Reviews_Regression.csv and Amazon_Reviews_Classification.csv.\n",
    "\n",
    "__Dataset schema:__ \n",
    "* __reviewText__ - Text of the review\n",
    "* __summary__ - Summary of the review\n",
    "* __verified__ - Whether the purchase was verified (True or False)\n",
    "* __time__ - UNIX timestamp for the review\n",
    "* __rating__ - Rating of the review\n",
    "* __log_votes__ - Logarithm-adjusted votes log(1+votes). This is the field to predict.\n"
   ]
  },
  {
   "cell_type": "markdown",
   "metadata": {},
   "source": [
    "## 1. Read the dataset\n",
    "(<a href=\"#0\">Go to top</a>)\n",
    "\n",
    "We will use the Pandas library to read our dataset."
   ]
  },
  {
   "cell_type": "code",
   "execution_count": 1,
   "metadata": {},
   "outputs": [
    {
     "name": "stdout",
     "output_type": "stream",
     "text": [
      "The shape of the dataset is: (55000, 6)\n"
     ]
    }
   ],
   "source": [
    "# Copyright Amazon.com, Inc. or its affiliates. All Rights Reserved\n",
    "# SPDX-License-Identifier: MIT-0\n",
    "\n",
    "import pandas as pd\n",
    "\n",
    "df = pd.read_csv('../../DATA/product-reviews/Amazon_Reviews_Regression.csv')\n",
    "\n",
    "print('The shape of the dataset is:', df.shape)"
   ]
  },
  {
   "cell_type": "markdown",
   "metadata": {},
   "source": [
    "Let's look at the first five rows in the dataset. As you can see the __log_votes__ field is numeric. That's why we will build a regression model."
   ]
  },
  {
   "cell_type": "code",
   "execution_count": 2,
   "metadata": {},
   "outputs": [
    {
     "data": {
      "text/html": [
       "<div>\n",
       "<style scoped>\n",
       "    .dataframe tbody tr th:only-of-type {\n",
       "        vertical-align: middle;\n",
       "    }\n",
       "\n",
       "    .dataframe tbody tr th {\n",
       "        vertical-align: top;\n",
       "    }\n",
       "\n",
       "    .dataframe thead th {\n",
       "        text-align: right;\n",
       "    }\n",
       "</style>\n",
       "<table border=\"1\" class=\"dataframe\">\n",
       "  <thead>\n",
       "    <tr style=\"text-align: right;\">\n",
       "      <th></th>\n",
       "      <th>reviewText</th>\n",
       "      <th>summary</th>\n",
       "      <th>verified</th>\n",
       "      <th>time</th>\n",
       "      <th>rating</th>\n",
       "      <th>log_votes</th>\n",
       "    </tr>\n",
       "  </thead>\n",
       "  <tbody>\n",
       "    <tr>\n",
       "      <th>0</th>\n",
       "      <td>Stuck with this at work, slow and we still got...</td>\n",
       "      <td>Use SEP or Mcafee</td>\n",
       "      <td>False</td>\n",
       "      <td>1464739200</td>\n",
       "      <td>1.0</td>\n",
       "      <td>0.0</td>\n",
       "    </tr>\n",
       "    <tr>\n",
       "      <th>1</th>\n",
       "      <td>I use parallels every day with both my persona...</td>\n",
       "      <td>Use it daily</td>\n",
       "      <td>False</td>\n",
       "      <td>1332892800</td>\n",
       "      <td>5.0</td>\n",
       "      <td>0.0</td>\n",
       "    </tr>\n",
       "    <tr>\n",
       "      <th>2</th>\n",
       "      <td>Barbara Robbins\\n\\nI've used TurboTax to do ou...</td>\n",
       "      <td>Helpful Product</td>\n",
       "      <td>True</td>\n",
       "      <td>1398816000</td>\n",
       "      <td>4.0</td>\n",
       "      <td>0.0</td>\n",
       "    </tr>\n",
       "    <tr>\n",
       "      <th>3</th>\n",
       "      <td>I have been using this software security for y...</td>\n",
       "      <td>Five Stars</td>\n",
       "      <td>True</td>\n",
       "      <td>1430784000</td>\n",
       "      <td>5.0</td>\n",
       "      <td>0.0</td>\n",
       "    </tr>\n",
       "    <tr>\n",
       "      <th>4</th>\n",
       "      <td>If you want your computer hijacked and slowed ...</td>\n",
       "      <td>... hijacked and slowed to a crawl Windows 10 ...</td>\n",
       "      <td>False</td>\n",
       "      <td>1508025600</td>\n",
       "      <td>1.0</td>\n",
       "      <td>0.0</td>\n",
       "    </tr>\n",
       "  </tbody>\n",
       "</table>\n",
       "</div>"
      ],
      "text/plain": [
       "                                          reviewText  \\\n",
       "0  Stuck with this at work, slow and we still got...   \n",
       "1  I use parallels every day with both my persona...   \n",
       "2  Barbara Robbins\\n\\nI've used TurboTax to do ou...   \n",
       "3  I have been using this software security for y...   \n",
       "4  If you want your computer hijacked and slowed ...   \n",
       "\n",
       "                                             summary  verified        time  \\\n",
       "0                                  Use SEP or Mcafee     False  1464739200   \n",
       "1                                       Use it daily     False  1332892800   \n",
       "2                                    Helpful Product      True  1398816000   \n",
       "3                                         Five Stars      True  1430784000   \n",
       "4  ... hijacked and slowed to a crawl Windows 10 ...     False  1508025600   \n",
       "\n",
       "   rating  log_votes  \n",
       "0     1.0        0.0  \n",
       "1     5.0        0.0  \n",
       "2     4.0        0.0  \n",
       "3     5.0        0.0  \n",
       "4     1.0        0.0  "
      ]
     },
     "execution_count": 2,
     "metadata": {},
     "output_type": "execute_result"
    }
   ],
   "source": [
    "df.head()"
   ]
  },
  {
   "cell_type": "markdown",
   "metadata": {},
   "source": [
    "## 2. Exploratory Data Analysis\n",
    "(<a href=\"#0\">Go to top</a>)"
   ]
  },
  {
   "cell_type": "markdown",
   "metadata": {},
   "source": [
    "Let's look at the distribtion of the only numerical feature in the dataset (rating)."
   ]
  },
  {
   "cell_type": "code",
   "execution_count": 3,
   "metadata": {},
   "outputs": [
    {
     "data": {
      "image/png": "[encoded data removed]",
      "text/plain": [
       "<Figure size 432x288 with 1 Axes>"
      ]
     },
     "metadata": {
      "needs_background": "light"
     },
     "output_type": "display_data"
    }
   ],
   "source": [
    "%matplotlib inline\n",
    "import matplotlib.pyplot as plt\n",
    "df['rating'].plot.hist(bins=5)\n",
    "plt.show()"
   ]
  },
  {
   "cell_type": "code",
   "execution_count": 4,
   "metadata": {},
   "outputs": [
    {
     "data": {
      "image/png": "[encoded data removed]",
      "text/plain": [
       "<Figure size 432x288 with 1 Axes>"
      ]
     },
     "metadata": {
      "needs_background": "light"
     },
     "output_type": "display_data"
    }
   ],
   "source": [
    "df['verified'].value_counts().plot.bar()\n",
    "plt.show()"
   ]
  },
  {
   "cell_type": "markdown",
   "metadata": {},
   "source": [
    "#### Target distribution\n",
    "\n",
    "Let's check our target distribution."
   ]
  },
  {
   "cell_type": "code",
   "execution_count": 5,
   "metadata": {},
   "outputs": [
    {
     "data": {
      "image/png": "[encoded data removed]",
      "text/plain": [
       "<Figure size 432x288 with 1 Axes>"
      ]
     },
     "metadata": {
      "needs_background": "light"
     },
     "output_type": "display_data"
    }
   ],
   "source": [
    "df['log_votes'].plot.hist(bins=10)\n",
    "plt.show()"
   ]
  },
  {
   "cell_type": "markdown",
   "metadata": {},
   "source": [
    "Let's look at the range and distribution of log_votes"
   ]
  },
  {
   "cell_type": "code",
   "execution_count": 6,
   "metadata": {},
   "outputs": [
    {
     "data": {
      "text/plain": [
       "0.0"
      ]
     },
     "execution_count": 6,
     "metadata": {},
     "output_type": "execute_result"
    }
   ],
   "source": [
    "df[\"log_votes\"].min()"
   ]
  },
  {
   "cell_type": "code",
   "execution_count": 7,
   "metadata": {},
   "outputs": [
    {
     "data": {
      "text/plain": [
       "7.799753318287247"
      ]
     },
     "execution_count": 7,
     "metadata": {},
     "output_type": "execute_result"
    }
   ],
   "source": [
    "df[\"log_votes\"].max()"
   ]
  },
  {
   "cell_type": "markdown",
   "metadata": {},
   "source": [
    "#### Missing values\n",
    "We can check the number of missing values for each columm below."
   ]
  },
  {
   "cell_type": "code",
   "execution_count": 8,
   "metadata": {},
   "outputs": [
    {
     "name": "stdout",
     "output_type": "stream",
     "text": [
      "reviewText    6\n",
      "summary       7\n",
      "verified      0\n",
      "time          0\n",
      "rating        0\n",
      "log_votes     0\n",
      "dtype: int64\n"
     ]
    }
   ],
   "source": [
    "print(df.isna().sum())"
   ]
  },
  {
   "cell_type": "markdown",
   "metadata": {},
   "source": [
    "### Imputation\n",
    "Let's fill-in the missing values for __reviewText__ below. We will just use the placeholder \"Missing\" here. We will focus on the __reviewText__ column and drop the __summary__ column later, so there is no need to fill the missing values for __summary__."
   ]
  },
  {
   "cell_type": "code",
   "execution_count": 9,
   "metadata": {},
   "outputs": [],
   "source": [
    "df[\"reviewText\"].fillna(\"Missing\", inplace=True)"
   ]
  },
  {
   "cell_type": "markdown",
   "metadata": {},
   "source": [
    "## 3. Selecting features to build the model\n",
    "(<a href=\"#0\">Go to top</a>)\n",
    "\n",
    "In this particular dataset, there are 2 text based columns which we want to prepare to use and 1 categorical and 1 numerical column each. For now, we ignore the __time__ column and as mentioned previously we also drop __summary__."
   ]
  },
  {
   "cell_type": "code",
   "execution_count": 10,
   "metadata": {},
   "outputs": [],
   "source": [
    "df.drop('time', axis = 1, inplace = True)\n",
    "df.drop('summary', axis = 1, inplace = True)"
   ]
  },
  {
   "cell_type": "markdown",
   "metadata": {},
   "source": [
    "#### Cleaning text features \n",
    "\n",
    "Text cleaning can be performed here, before train/test split, with less code. The cleaning should happen after stop words have been removed as there will be fewer words to process."
   ]
  },
  {
   "cell_type": "code",
   "execution_count": 11,
   "metadata": {},
   "outputs": [
    {
     "name": "stderr",
     "output_type": "stream",
     "text": [
      "[nltk_data] Downloading package punkt to /home/ec2-user/nltk_data...\n",
      "[nltk_data]   Package punkt is already up-to-date!\n",
      "[nltk_data] Downloading package stopwords to\n",
      "[nltk_data]     /home/ec2-user/nltk_data...\n",
      "[nltk_data]   Package stopwords is already up-to-date!\n"
     ]
    },
    {
     "data": {
      "text/plain": [
       "True"
      ]
     },
     "execution_count": 11,
     "metadata": {},
     "output_type": "execute_result"
    }
   ],
   "source": [
    "# Install the library and functions\n",
    "import nltk\n",
    "\n",
    "nltk.download('punkt')\n",
    "nltk.download('stopwords')"
   ]
  },
  {
   "cell_type": "markdown",
   "metadata": {},
   "source": [
    "We will create the stop word removal and text cleaning processes below. NLTK library provides a list of common stop words. We will use the list, but remove some of the words from that list (because those words are actually useful to understand the sentiment in the sentence)."
   ]
  },
  {
   "cell_type": "code",
   "execution_count": 12,
   "metadata": {},
   "outputs": [],
   "source": [
    "import nltk, re\n",
    "from nltk.corpus import stopwords\n",
    "from nltk.stem import SnowballStemmer\n",
    "from nltk.tokenize import word_tokenize\n",
    "\n",
    "# Let's get a list of stop words from the NLTK library\n",
    "stop = stopwords.words('english')\n",
    "\n",
    "# These words are important for our problem. We don't want to remove them.\n",
    "excluding = ['against', 'not', 'don', \"don't\",'ain', 'aren', \"aren't\", 'couldn', \"couldn't\",\n",
    "             'didn', \"didn't\", 'doesn', \"doesn't\", 'hadn', \"hadn't\", 'hasn', \"hasn't\", \n",
    "             'haven', \"haven't\", 'isn', \"isn't\", 'mightn', \"mightn't\", 'mustn', \"mustn't\",\n",
    "             'needn', \"needn't\",'shouldn', \"shouldn't\", 'wasn', \"wasn't\", 'weren', \n",
    "             \"weren't\", 'won', \"won't\", 'wouldn', \"wouldn't\"]\n",
    "\n",
    "# New stop word list\n",
    "stop_words = [word for word in stop if word not in excluding]\n",
    "\n",
    "snow = SnowballStemmer('english')\n",
    "\n",
    "def process_text(texts): \n",
    "    final_text_list=[]\n",
    "    for sent in texts:\n",
    "        filtered_sentence=[]\n",
    "        \n",
    "        sent = sent.lower() # Lowercase \n",
    "        sent = sent.strip() # Remove leading/trailing whitespace\n",
    "        sent = re.sub('\\s+', ' ', sent) # Remove extra space and tabs\n",
    "        sent = re.compile('<.*?>').sub('', sent) # Remove HTML tags/markups:\n",
    "        \n",
    "        for w in word_tokenize(sent):\n",
    "            # We are applying some custom filtering here, feel free to try different things\n",
    "            # Check if it is not numeric and its length>2 and not in stop words\n",
    "            if(not w.isnumeric()) and (len(w)>2) and (w not in stop_words):  \n",
    "                # Stem and add to filtered list\n",
    "                filtered_sentence.append(snow.stem(w))\n",
    "        final_string = \" \".join(filtered_sentence) #final string of cleaned words\n",
    " \n",
    "        final_text_list.append(final_string)\n",
    "    \n",
    "    return final_text_list"
   ]
  },
  {
   "cell_type": "code",
   "execution_count": 13,
   "metadata": {},
   "outputs": [],
   "source": [
    "df[\"reviewText\"] = process_text(df[\"reviewText\"].tolist()) "
   ]
  },
  {
   "cell_type": "code",
   "execution_count": 14,
   "metadata": {},
   "outputs": [],
   "source": [
    "df['verified'] = df['verified'].astype(str)"
   ]
  },
  {
   "cell_type": "markdown",
   "metadata": {},
   "source": [
    "## 4. Training and test datasets\n",
    "(<a href=\"#0\">Go to top</a>)\n",
    "\n",
    "Sklearn library has a useful function to split datasets. We will use the `train_test_split()` function. In the example below, we get 90% of the data for training and 10% is left for validation."
   ]
  },
  {
   "cell_type": "code",
   "execution_count": 15,
   "metadata": {},
   "outputs": [],
   "source": [
    "from sklearn.model_selection import train_test_split\n",
    "\n",
    "# Input: \"reviewText\", \"rating\" and \"verified\"\n",
    "# Target: \"log_votes\"\n",
    "X_train, X_test, y_train, y_test = train_test_split(df[[\"reviewText\", \"rating\", \"verified\"]],\n",
    "                                                  df[\"log_votes\"].tolist(),\n",
    "                                                  test_size=0.10,\n",
    "                                                  shuffle=True\n",
    "                                                 )"
   ]
  },
  {
   "cell_type": "markdown",
   "metadata": {},
   "source": [
    "## 5. Data processing using Bag of Words (BoW)\n",
    "(<a href=\"#0\">Go to top</a>)\n",
    "\n",
    "We are using binary features here. TF and TF-IDF are other options."
   ]
  },
  {
   "cell_type": "code",
   "execution_count": 48,
   "metadata": {},
   "outputs": [],
   "source": [
    "from sklearn.preprocessing import OneHotEncoder, MinMaxScaler\n",
    "from sklearn.feature_extraction.text import CountVectorizer, TfidfVectorizer\n",
    "from sklearn.pipeline import Pipeline\n",
    "from sklearn.compose import ColumnTransformer\n",
    "\n",
    "\n",
    "### COLUMN_TRANSFORMER ###\n",
    "##########################\n",
    "\n",
    "# Preprocess the numerical features\n",
    "numerical_processor = Pipeline([\n",
    "    ('num_scaler', MinMaxScaler()) \n",
    "                                ])\n",
    "                  \n",
    "# Preprocess the categorical features\n",
    "categorical_processor = Pipeline([\n",
    "    ('cat_encoder', OneHotEncoder(handle_unknown='ignore')) \n",
    "                                ])\n",
    "# Preprocess 1st text feature\n",
    "text_processor = Pipeline([\n",
    "    ('text_vect', CountVectorizer(binary=False, max_features=50))\n",
    "                                ])\n",
    "\n",
    "\n",
    "# Combine all data preprocessors from above\n",
    "data_preprocessor = ColumnTransformer([\n",
    "    ('numerical_pre', numerical_processor, ['rating']),\n",
    "    ('categorical_pre', categorical_processor, ['verified']),\n",
    "    ('text_pre', text_processor, ['reviewText'][0]),\n",
    "                                    ]) "
   ]
  },
  {
   "cell_type": "markdown",
   "metadata": {},
   "source": [
    "## 6. Train a regressor\n",
    "(<a href=\"#0\">Go to top</a>)"
   ]
  },
  {
   "cell_type": "markdown",
   "metadata": {},
   "source": [
    "### 6.1  LinearRegression\n",
    "Let's first fit __LinearRegression__ from Sklearn library, and check the performance on the validation dataset. Using the __coef___ atribute, we can also print the learned weights of the model.\n",
    "\n",
    "Find more details on __LinearRegression__ [here](https://scikit-learn.org/stable/modules/generated/sklearn.linear_model.LinearRegression.html)."
   ]
  },
  {
   "cell_type": "code",
   "execution_count": 49,
   "metadata": {},
   "outputs": [],
   "source": [
    "from sklearn import set_config\n",
    "set_config(display='diagram')\n",
    "\n",
    "from sklearn.linear_model import LinearRegression\n",
    "\n",
    "### PIPELINE ###\n",
    "################\n",
    "\n",
    "lr_pipeline = Pipeline([\n",
    "    ('data_preprocessing', data_preprocessor),\n",
    "    ('lrRegressor', LinearRegression())\n",
    "                    ])"
   ]
  },
  {
   "cell_type": "code",
   "execution_count": 50,
   "metadata": {},
   "outputs": [
    {
     "data": {
      "text/html": [
       "<style>div.sk-top-container {color: black;background-color: white;}div.sk-toggleable {background-color: white;}label.sk-toggleable__label {cursor: pointer;display: block;width: 100%;margin-bottom: 0;padding: 0.2em 0.3em;box-sizing: border-box;text-align: center;}div.sk-toggleable__content {max-height: 0;max-width: 0;overflow: hidden;text-align: left;background-color: #f0f8ff;}div.sk-toggleable__content pre {margin: 0.2em;color: black;border-radius: 0.25em;background-color: #f0f8ff;}input.sk-toggleable__control:checked~div.sk-toggleable__content {max-height: 200px;max-width: 100%;overflow: auto;}div.sk-estimator input.sk-toggleable__control:checked~label.sk-toggleable__label {background-color: #d4ebff;}div.sk-label input.sk-toggleable__control:checked~label.sk-toggleable__label {background-color: #d4ebff;}input.sk-hidden--visually {border: 0;clip: rect(1px 1px 1px 1px);clip: rect(1px, 1px, 1px, 1px);height: 1px;margin: -1px;overflow: hidden;padding: 0;position: absolute;width: 1px;}div.sk-estimator {font-family: monospace;background-color: #f0f8ff;margin: 0.25em 0.25em;border: 1px dotted black;border-radius: 0.25em;box-sizing: border-box;}div.sk-estimator:hover {background-color: #d4ebff;}div.sk-parallel-item::after {content: \"\";width: 100%;border-bottom: 1px solid gray;flex-grow: 1;}div.sk-label:hover label.sk-toggleable__label {background-color: #d4ebff;}div.sk-serial::before {content: \"\";position: absolute;border-left: 1px solid gray;box-sizing: border-box;top: 2em;bottom: 0;left: 50%;}div.sk-serial {display: flex;flex-direction: column;align-items: center;background-color: white;}div.sk-item {z-index: 1;}div.sk-parallel {display: flex;align-items: stretch;justify-content: center;background-color: white;}div.sk-parallel-item {display: flex;flex-direction: column;position: relative;background-color: white;}div.sk-parallel-item:first-child::after {align-self: flex-end;width: 50%;}div.sk-parallel-item:last-child::after {align-self: flex-start;width: 50%;}div.sk-parallel-item:only-child::after {width: 0;}div.sk-dashed-wrapped {border: 1px dashed gray;margin: 0.2em;box-sizing: border-box;padding-bottom: 0.1em;background-color: white;position: relative;}div.sk-label label {font-family: monospace;font-weight: bold;background-color: white;display: inline-block;line-height: 1.2em;}div.sk-label-container {position: relative;z-index: 2;text-align: center;}div.sk-container {display: inline-block;position: relative;}</style><div class=\"sk-top-container\"><div class=\"sk-container\"><div class=\"sk-item sk-dashed-wrapped\"><div class=\"sk-label-container\"><div class=\"sk-label sk-toggleable\"><input class=\"sk-toggleable__control sk-hidden--visually\" id=\"f19c1155-26a3-48ed-be68-23d148e12d56\" type=\"checkbox\" ><label class=\"sk-toggleable__label\" for=\"f19c1155-26a3-48ed-be68-23d148e12d56\">Pipeline</label><div class=\"sk-toggleable__content\"><pre>Pipeline(steps=[('data_preprocessing',\n",
       "                 ColumnTransformer(transformers=[('numerical_pre',\n",
       "                                                  Pipeline(steps=[('num_scaler',\n",
       "                                                                   MinMaxScaler())]),\n",
       "                                                  ['rating']),\n",
       "                                                 ('categorical_pre',\n",
       "                                                  Pipeline(steps=[('cat_encoder',\n",
       "                                                                   OneHotEncoder(handle_unknown='ignore'))]),\n",
       "                                                  ['verified']),\n",
       "                                                 ('text_pre',\n",
       "                                                  Pipeline(steps=[('text_vect',\n",
       "                                                                   CountVectorizer(max_features=50))]),\n",
       "                                                  'reviewText')])),\n",
       "                ('lrRegressor', LinearRegression())])</pre></div></div></div><div class=\"sk-serial\"><div class=\"sk-item sk-dashed-wrapped\"><div class=\"sk-label-container\"><div class=\"sk-label sk-toggleable\"><input class=\"sk-toggleable__control sk-hidden--visually\" id=\"79b92489-e6da-4990-a787-c8225f0a5d69\" type=\"checkbox\" ><label class=\"sk-toggleable__label\" for=\"79b92489-e6da-4990-a787-c8225f0a5d69\">data_preprocessing: ColumnTransformer</label><div class=\"sk-toggleable__content\"><pre>ColumnTransformer(transformers=[('numerical_pre',\n",
       "                                 Pipeline(steps=[('num_scaler',\n",
       "                                                  MinMaxScaler())]),\n",
       "                                 ['rating']),\n",
       "                                ('categorical_pre',\n",
       "                                 Pipeline(steps=[('cat_encoder',\n",
       "                                                  OneHotEncoder(handle_unknown='ignore'))]),\n",
       "                                 ['verified']),\n",
       "                                ('text_pre',\n",
       "                                 Pipeline(steps=[('text_vect',\n",
       "                                                  CountVectorizer(max_features=50))]),\n",
       "                                 'reviewText')])</pre></div></div></div><div class=\"sk-parallel\"><div class=\"sk-parallel-item\"><div class=\"sk-item\"><div class=\"sk-label-container\"><div class=\"sk-label sk-toggleable\"><input class=\"sk-toggleable__control sk-hidden--visually\" id=\"927ba59b-7c57-4cc1-8691-1bc0fe97a82f\" type=\"checkbox\" ><label class=\"sk-toggleable__label\" for=\"927ba59b-7c57-4cc1-8691-1bc0fe97a82f\">numerical_pre</label><div class=\"sk-toggleable__content\"><pre>['rating']</pre></div></div></div><div class=\"sk-serial\"><div class=\"sk-item\"><div class=\"sk-serial\"><div class=\"sk-item\"><div class=\"sk-estimator sk-toggleable\"><input class=\"sk-toggleable__control sk-hidden--visually\" id=\"39f8ab4a-5e2b-44ed-9a06-cb418cdedc93\" type=\"checkbox\" ><label class=\"sk-toggleable__label\" for=\"39f8ab4a-5e2b-44ed-9a06-cb418cdedc93\">MinMaxScaler</label><div class=\"sk-toggleable__content\"><pre>MinMaxScaler()</pre></div></div></div></div></div></div></div></div><div class=\"sk-parallel-item\"><div class=\"sk-item\"><div class=\"sk-label-container\"><div class=\"sk-label sk-toggleable\"><input class=\"sk-toggleable__control sk-hidden--visually\" id=\"c7d38041-8089-49a0-92ce-a2283201b277\" type=\"checkbox\" ><label class=\"sk-toggleable__label\" for=\"c7d38041-8089-49a0-92ce-a2283201b277\">categorical_pre</label><div class=\"sk-toggleable__content\"><pre>['verified']</pre></div></div></div><div class=\"sk-serial\"><div class=\"sk-item\"><div class=\"sk-serial\"><div class=\"sk-item\"><div class=\"sk-estimator sk-toggleable\"><input class=\"sk-toggleable__control sk-hidden--visually\" id=\"2b1c4d52-727e-4ab6-bfc7-6f806e836d35\" type=\"checkbox\" ><label class=\"sk-toggleable__label\" for=\"2b1c4d52-727e-4ab6-bfc7-6f806e836d35\">OneHotEncoder</label><div class=\"sk-toggleable__content\"><pre>OneHotEncoder(handle_unknown='ignore')</pre></div></div></div></div></div></div></div></div><div class=\"sk-parallel-item\"><div class=\"sk-item\"><div class=\"sk-label-container\"><div class=\"sk-label sk-toggleable\"><input class=\"sk-toggleable__control sk-hidden--visually\" id=\"29ae9b57-4b5f-44ad-9864-02b5b8fe5a4b\" type=\"checkbox\" ><label class=\"sk-toggleable__label\" for=\"29ae9b57-4b5f-44ad-9864-02b5b8fe5a4b\">text_pre</label><div class=\"sk-toggleable__content\"><pre>reviewText</pre></div></div></div><div class=\"sk-serial\"><div class=\"sk-item\"><div class=\"sk-serial\"><div class=\"sk-item\"><div class=\"sk-estimator sk-toggleable\"><input class=\"sk-toggleable__control sk-hidden--visually\" id=\"682eef39-e16a-4a34-b035-f15f34fcfea8\" type=\"checkbox\" ><label class=\"sk-toggleable__label\" for=\"682eef39-e16a-4a34-b035-f15f34fcfea8\">CountVectorizer</label><div class=\"sk-toggleable__content\"><pre>CountVectorizer(max_features=50)</pre></div></div></div></div></div></div></div></div></div></div><div class=\"sk-item\"><div class=\"sk-estimator sk-toggleable\"><input class=\"sk-toggleable__control sk-hidden--visually\" id=\"32345d24-386a-4c16-ba7e-4e8fb434b313\" type=\"checkbox\" ><label class=\"sk-toggleable__label\" for=\"32345d24-386a-4c16-ba7e-4e8fb434b313\">LinearRegression</label><div class=\"sk-toggleable__content\"><pre>LinearRegression()</pre></div></div></div></div></div></div></div>"
      ],
      "text/plain": [
       "Pipeline(steps=[('data_preprocessing',\n",
       "                 ColumnTransformer(transformers=[('numerical_pre',\n",
       "                                                  Pipeline(steps=[('num_scaler',\n",
       "                                                                   MinMaxScaler())]),\n",
       "                                                  ['rating']),\n",
       "                                                 ('categorical_pre',\n",
       "                                                  Pipeline(steps=[('cat_encoder',\n",
       "                                                                   OneHotEncoder(handle_unknown='ignore'))]),\n",
       "                                                  ['verified']),\n",
       "                                                 ('text_pre',\n",
       "                                                  Pipeline(steps=[('text_vect',\n",
       "                                                                   CountVectorizer(max_features=50))]),\n",
       "                                                  'reviewText')])),\n",
       "                ('lrRegressor', LinearRegression())])"
      ]
     },
     "execution_count": 50,
     "metadata": {},
     "output_type": "execute_result"
    }
   ],
   "source": [
    "# Train the model\n",
    "lr_pipeline.fit(X_train, y_train)"
   ]
  },
  {
   "cell_type": "code",
   "execution_count": 51,
   "metadata": {},
   "outputs": [
    {
     "name": "stdout",
     "output_type": "stream",
     "text": [
      "LinearRegression model weights: \n",
      " [-0.37395732  0.22501447 -0.22501447  0.058752   -0.00195342  0.06254532\n",
      " -0.01508338 -0.02295556 -0.00351443  0.04693709 -0.0048084   0.05294852\n",
      " -0.02567536  0.04125754  0.00504168  0.02704792  0.01950597  0.01226088\n",
      " -0.00091259  0.05450059  0.07248126  0.03943284  0.02413407  0.04189922\n",
      "  0.03132283  0.02866759  0.007512    0.05565781  0.05843321  0.06883673\n",
      " -0.01573512  0.03887425  0.00658408  0.04506194  0.0404797   0.03166256\n",
      " -0.03536822  0.02146245  0.00633346  0.02253465 -0.00371238  0.05152897\n",
      " -0.01324726  0.01901319  0.06543954  0.01733524  0.05137724  0.05791584\n",
      "  0.01750658 -0.00686233 -0.01510776 -0.00374756  0.02259369]\n"
     ]
    }
   ],
   "source": [
    "print(\"LinearRegression model weights: \\n\", lr_pipeline[-1].coef_)"
   ]
  },
  {
   "cell_type": "markdown",
   "metadata": {},
   "source": [
    "### 6.2  Ridge (Linear Regression with L2 regularization)\n",
    "Let's now fit __Ridge__ from Sklearn library, and check the performance on the validation dataset.\n",
    "\n",
    "Find more details on __Ridge__ [here](https://scikit-learn.org/stable/modules/generated/sklearn.linear_model.Ridge.html).\n",
    "\n",
    "To improve the performance of a LinearRegression model, __Ridge__ is tuning model complexity by adding a $L_2$ penalty score for complexity to the model cost function:\n",
    "\n",
    "$$\\text{C}_{\\text{regularized}}(\\textbf{w}) = \\text{C}(\\textbf{w}) +  {alpha}∗||\\textbf{w}||_2^2$$\n",
    "\n",
    "where $\\textbf{w}$ is the model weights vector, and $||\\textbf{w}||_2^2 = \\sum \\textbf{w}_i^2$.\n",
    "\n",
    "The strength of the regularization is controlled by the regularizer parameter, alpha: smaller value of $alpha$, weaker regularization; larger value of $alpha$, stronger regularization. \n"
   ]
  },
  {
   "cell_type": "code",
   "execution_count": 52,
   "metadata": {},
   "outputs": [],
   "source": [
    "from sklearn.linear_model import Ridge\n",
    "\n",
    "### PIPELINE ###\n",
    "################\n",
    "\n",
    "r_pipeline = Pipeline([\n",
    "    ('data_preprocessing', data_preprocessor),\n",
    "    ('ridgeRegressor', Ridge(alpha = 100))\n",
    "                    ])"
   ]
  },
  {
   "cell_type": "code",
   "execution_count": 53,
   "metadata": {},
   "outputs": [
    {
     "data": {
      "text/html": [
       "<style>div.sk-top-container {color: black;background-color: white;}div.sk-toggleable {background-color: white;}label.sk-toggleable__label {cursor: pointer;display: block;width: 100%;margin-bottom: 0;padding: 0.2em 0.3em;box-sizing: border-box;text-align: center;}div.sk-toggleable__content {max-height: 0;max-width: 0;overflow: hidden;text-align: left;background-color: #f0f8ff;}div.sk-toggleable__content pre {margin: 0.2em;color: black;border-radius: 0.25em;background-color: #f0f8ff;}input.sk-toggleable__control:checked~div.sk-toggleable__content {max-height: 200px;max-width: 100%;overflow: auto;}div.sk-estimator input.sk-toggleable__control:checked~label.sk-toggleable__label {background-color: #d4ebff;}div.sk-label input.sk-toggleable__control:checked~label.sk-toggleable__label {background-color: #d4ebff;}input.sk-hidden--visually {border: 0;clip: rect(1px 1px 1px 1px);clip: rect(1px, 1px, 1px, 1px);height: 1px;margin: -1px;overflow: hidden;padding: 0;position: absolute;width: 1px;}div.sk-estimator {font-family: monospace;background-color: #f0f8ff;margin: 0.25em 0.25em;border: 1px dotted black;border-radius: 0.25em;box-sizing: border-box;}div.sk-estimator:hover {background-color: #d4ebff;}div.sk-parallel-item::after {content: \"\";width: 100%;border-bottom: 1px solid gray;flex-grow: 1;}div.sk-label:hover label.sk-toggleable__label {background-color: #d4ebff;}div.sk-serial::before {content: \"\";position: absolute;border-left: 1px solid gray;box-sizing: border-box;top: 2em;bottom: 0;left: 50%;}div.sk-serial {display: flex;flex-direction: column;align-items: center;background-color: white;}div.sk-item {z-index: 1;}div.sk-parallel {display: flex;align-items: stretch;justify-content: center;background-color: white;}div.sk-parallel-item {display: flex;flex-direction: column;position: relative;background-color: white;}div.sk-parallel-item:first-child::after {align-self: flex-end;width: 50%;}div.sk-parallel-item:last-child::after {align-self: flex-start;width: 50%;}div.sk-parallel-item:only-child::after {width: 0;}div.sk-dashed-wrapped {border: 1px dashed gray;margin: 0.2em;box-sizing: border-box;padding-bottom: 0.1em;background-color: white;position: relative;}div.sk-label label {font-family: monospace;font-weight: bold;background-color: white;display: inline-block;line-height: 1.2em;}div.sk-label-container {position: relative;z-index: 2;text-align: center;}div.sk-container {display: inline-block;position: relative;}</style><div class=\"sk-top-container\"><div class=\"sk-container\"><div class=\"sk-item sk-dashed-wrapped\"><div class=\"sk-label-container\"><div class=\"sk-label sk-toggleable\"><input class=\"sk-toggleable__control sk-hidden--visually\" id=\"a803ae4f-c20b-4fdf-94be-70c15d4b29f9\" type=\"checkbox\" ><label class=\"sk-toggleable__label\" for=\"a803ae4f-c20b-4fdf-94be-70c15d4b29f9\">Pipeline</label><div class=\"sk-toggleable__content\"><pre>Pipeline(steps=[('data_preprocessing',\n",
       "                 ColumnTransformer(transformers=[('numerical_pre',\n",
       "                                                  Pipeline(steps=[('num_scaler',\n",
       "                                                                   MinMaxScaler())]),\n",
       "                                                  ['rating']),\n",
       "                                                 ('categorical_pre',\n",
       "                                                  Pipeline(steps=[('cat_encoder',\n",
       "                                                                   OneHotEncoder(handle_unknown='ignore'))]),\n",
       "                                                  ['verified']),\n",
       "                                                 ('text_pre',\n",
       "                                                  Pipeline(steps=[('text_vect',\n",
       "                                                                   CountVectorizer(max_features=50))]),\n",
       "                                                  'reviewText')])),\n",
       "                ('ridgeRegressor', Ridge(alpha=100))])</pre></div></div></div><div class=\"sk-serial\"><div class=\"sk-item sk-dashed-wrapped\"><div class=\"sk-label-container\"><div class=\"sk-label sk-toggleable\"><input class=\"sk-toggleable__control sk-hidden--visually\" id=\"ed66271b-0148-4601-b284-3244d86ca7cb\" type=\"checkbox\" ><label class=\"sk-toggleable__label\" for=\"ed66271b-0148-4601-b284-3244d86ca7cb\">data_preprocessing: ColumnTransformer</label><div class=\"sk-toggleable__content\"><pre>ColumnTransformer(transformers=[('numerical_pre',\n",
       "                                 Pipeline(steps=[('num_scaler',\n",
       "                                                  MinMaxScaler())]),\n",
       "                                 ['rating']),\n",
       "                                ('categorical_pre',\n",
       "                                 Pipeline(steps=[('cat_encoder',\n",
       "                                                  OneHotEncoder(handle_unknown='ignore'))]),\n",
       "                                 ['verified']),\n",
       "                                ('text_pre',\n",
       "                                 Pipeline(steps=[('text_vect',\n",
       "                                                  CountVectorizer(max_features=50))]),\n",
       "                                 'reviewText')])</pre></div></div></div><div class=\"sk-parallel\"><div class=\"sk-parallel-item\"><div class=\"sk-item\"><div class=\"sk-label-container\"><div class=\"sk-label sk-toggleable\"><input class=\"sk-toggleable__control sk-hidden--visually\" id=\"ef82f2df-cb07-4d69-8252-a75c7b71e913\" type=\"checkbox\" ><label class=\"sk-toggleable__label\" for=\"ef82f2df-cb07-4d69-8252-a75c7b71e913\">numerical_pre</label><div class=\"sk-toggleable__content\"><pre>['rating']</pre></div></div></div><div class=\"sk-serial\"><div class=\"sk-item\"><div class=\"sk-serial\"><div class=\"sk-item\"><div class=\"sk-estimator sk-toggleable\"><input class=\"sk-toggleable__control sk-hidden--visually\" id=\"74fe0948-c126-476a-b5ed-ce12adcfe37d\" type=\"checkbox\" ><label class=\"sk-toggleable__label\" for=\"74fe0948-c126-476a-b5ed-ce12adcfe37d\">MinMaxScaler</label><div class=\"sk-toggleable__content\"><pre>MinMaxScaler()</pre></div></div></div></div></div></div></div></div><div class=\"sk-parallel-item\"><div class=\"sk-item\"><div class=\"sk-label-container\"><div class=\"sk-label sk-toggleable\"><input class=\"sk-toggleable__control sk-hidden--visually\" id=\"d713148e-f591-493f-91e3-ee2e59550266\" type=\"checkbox\" ><label class=\"sk-toggleable__label\" for=\"d713148e-f591-493f-91e3-ee2e59550266\">categorical_pre</label><div class=\"sk-toggleable__content\"><pre>['verified']</pre></div></div></div><div class=\"sk-serial\"><div class=\"sk-item\"><div class=\"sk-serial\"><div class=\"sk-item\"><div class=\"sk-estimator sk-toggleable\"><input class=\"sk-toggleable__control sk-hidden--visually\" id=\"1544bae0-fd62-44ae-896a-64d82ce4ab5c\" type=\"checkbox\" ><label class=\"sk-toggleable__label\" for=\"1544bae0-fd62-44ae-896a-64d82ce4ab5c\">OneHotEncoder</label><div class=\"sk-toggleable__content\"><pre>OneHotEncoder(handle_unknown='ignore')</pre></div></div></div></div></div></div></div></div><div class=\"sk-parallel-item\"><div class=\"sk-item\"><div class=\"sk-label-container\"><div class=\"sk-label sk-toggleable\"><input class=\"sk-toggleable__control sk-hidden--visually\" id=\"59820476-8e1a-4334-832b-6516afa52743\" type=\"checkbox\" ><label class=\"sk-toggleable__label\" for=\"59820476-8e1a-4334-832b-6516afa52743\">text_pre</label><div class=\"sk-toggleable__content\"><pre>reviewText</pre></div></div></div><div class=\"sk-serial\"><div class=\"sk-item\"><div class=\"sk-serial\"><div class=\"sk-item\"><div class=\"sk-estimator sk-toggleable\"><input class=\"sk-toggleable__control sk-hidden--visually\" id=\"5e4af167-f46b-4b52-9fc5-16cf2466dde4\" type=\"checkbox\" ><label class=\"sk-toggleable__label\" for=\"5e4af167-f46b-4b52-9fc5-16cf2466dde4\">CountVectorizer</label><div class=\"sk-toggleable__content\"><pre>CountVectorizer(max_features=50)</pre></div></div></div></div></div></div></div></div></div></div><div class=\"sk-item\"><div class=\"sk-estimator sk-toggleable\"><input class=\"sk-toggleable__control sk-hidden--visually\" id=\"26364596-077a-4b42-936a-e51505d777a6\" type=\"checkbox\" ><label class=\"sk-toggleable__label\" for=\"26364596-077a-4b42-936a-e51505d777a6\">Ridge</label><div class=\"sk-toggleable__content\"><pre>Ridge(alpha=100)</pre></div></div></div></div></div></div></div>"
      ],
      "text/plain": [
       "Pipeline(steps=[('data_preprocessing',\n",
       "                 ColumnTransformer(transformers=[('numerical_pre',\n",
       "                                                  Pipeline(steps=[('num_scaler',\n",
       "                                                                   MinMaxScaler())]),\n",
       "                                                  ['rating']),\n",
       "                                                 ('categorical_pre',\n",
       "                                                  Pipeline(steps=[('cat_encoder',\n",
       "                                                                   OneHotEncoder(handle_unknown='ignore'))]),\n",
       "                                                  ['verified']),\n",
       "                                                 ('text_pre',\n",
       "                                                  Pipeline(steps=[('text_vect',\n",
       "                                                                   CountVectorizer(max_features=50))]),\n",
       "                                                  'reviewText')])),\n",
       "                ('ridgeRegressor', Ridge(alpha=100))])"
      ]
     },
     "execution_count": 53,
     "metadata": {},
     "output_type": "execute_result"
    }
   ],
   "source": [
    "# Train the model\n",
    "r_pipeline.fit(X_train, y_train)"
   ]
  },
  {
   "cell_type": "code",
   "execution_count": 54,
   "metadata": {},
   "outputs": [
    {
     "name": "stdout",
     "output_type": "stream",
     "text": [
      "RidgeRegression model weights: \n",
      " [-0.36755327  0.22420725 -0.22420725  0.05859136 -0.00128551  0.06362876\n",
      " -0.01470638 -0.02272083 -0.00427955  0.04519285 -0.00476829  0.05260997\n",
      " -0.02565603  0.04143749  0.0047034   0.02614767  0.01973315  0.01263284\n",
      " -0.00102694  0.05396426  0.07250973  0.03851613  0.02335026  0.04123801\n",
      "  0.03170989  0.02854488  0.00843556  0.05537407  0.0582881   0.06935947\n",
      " -0.01547788  0.03942392  0.00677962  0.04509613  0.04058778  0.03215514\n",
      " -0.03520449  0.02210827  0.00677873  0.02261013 -0.00320267  0.05108282\n",
      " -0.01324224  0.01911625  0.06545858  0.01758704  0.0507683   0.05822591\n",
      "  0.01600529 -0.00682365 -0.01480653 -0.00338166  0.02240755]\n"
     ]
    }
   ],
   "source": [
    "print(\"RidgeRegression model weights: \\n\", r_pipeline[-1].coef_)"
   ]
  },
  {
   "cell_type": "markdown",
   "metadata": {},
   "source": [
    "#### 6.3 LASSO (Linear Regression with L1 regularization)\n",
    "Let's also fit __Lasso__ from Sklearn library, and check the performance on the validation dataset.\n",
    "\n",
    "Find more details on __Lasso__ [here](https://scikit-learn.org/stable/modules/generated/sklearn.linear_model.Lasso.html).\n",
    "\n",
    "__Lasso__ is tuning model complexity by adding a $L_1$ penalty score for complexity to the model cost function:\n",
    "\n",
    "$$\\text{C}_{\\text{regularized}}(\\textbf{w}) = \\text{C}(\\textbf{w}) +  alpha∗||\\textbf{w}||_1$$\n",
    "\n",
    "where $\\textbf{w}$ is the model weights vector, and $||\\textbf{w}||_1 = \\sum |\\textbf{w}_i|$. \n",
    "\n",
    "Again, the strength of the regularization is controlled by the regularizer parameter, $alpha$. Due to the geometry of $L_1$ norm, with __Lasso__, some of the weights will shrink all the way to 0, leading to sparsity - some of the features are not contributing to the model afterall!"
   ]
  },
  {
   "cell_type": "code",
   "execution_count": 55,
   "metadata": {},
   "outputs": [],
   "source": [
    "from sklearn.linear_model import Lasso\n",
    "\n",
    "### PIPELINE ###\n",
    "################\n",
    "\n",
    "l_pipeline = Pipeline([\n",
    "    ('data_preprocessing', data_preprocessor),\n",
    "    ('ridgeRegressor', Lasso(alpha = 0.001))\n",
    "                    ])"
   ]
  },
  {
   "cell_type": "code",
   "execution_count": 56,
   "metadata": {},
   "outputs": [
    {
     "data": {
      "text/html": [
       "<style>div.sk-top-container {color: black;background-color: white;}div.sk-toggleable {background-color: white;}label.sk-toggleable__label {cursor: pointer;display: block;width: 100%;margin-bottom: 0;padding: 0.2em 0.3em;box-sizing: border-box;text-align: center;}div.sk-toggleable__content {max-height: 0;max-width: 0;overflow: hidden;text-align: left;background-color: #f0f8ff;}div.sk-toggleable__content pre {margin: 0.2em;color: black;border-radius: 0.25em;background-color: #f0f8ff;}input.sk-toggleable__control:checked~div.sk-toggleable__content {max-height: 200px;max-width: 100%;overflow: auto;}div.sk-estimator input.sk-toggleable__control:checked~label.sk-toggleable__label {background-color: #d4ebff;}div.sk-label input.sk-toggleable__control:checked~label.sk-toggleable__label {background-color: #d4ebff;}input.sk-hidden--visually {border: 0;clip: rect(1px 1px 1px 1px);clip: rect(1px, 1px, 1px, 1px);height: 1px;margin: -1px;overflow: hidden;padding: 0;position: absolute;width: 1px;}div.sk-estimator {font-family: monospace;background-color: #f0f8ff;margin: 0.25em 0.25em;border: 1px dotted black;border-radius: 0.25em;box-sizing: border-box;}div.sk-estimator:hover {background-color: #d4ebff;}div.sk-parallel-item::after {content: \"\";width: 100%;border-bottom: 1px solid gray;flex-grow: 1;}div.sk-label:hover label.sk-toggleable__label {background-color: #d4ebff;}div.sk-serial::before {content: \"\";position: absolute;border-left: 1px solid gray;box-sizing: border-box;top: 2em;bottom: 0;left: 50%;}div.sk-serial {display: flex;flex-direction: column;align-items: center;background-color: white;}div.sk-item {z-index: 1;}div.sk-parallel {display: flex;align-items: stretch;justify-content: center;background-color: white;}div.sk-parallel-item {display: flex;flex-direction: column;position: relative;background-color: white;}div.sk-parallel-item:first-child::after {align-self: flex-end;width: 50%;}div.sk-parallel-item:last-child::after {align-self: flex-start;width: 50%;}div.sk-parallel-item:only-child::after {width: 0;}div.sk-dashed-wrapped {border: 1px dashed gray;margin: 0.2em;box-sizing: border-box;padding-bottom: 0.1em;background-color: white;position: relative;}div.sk-label label {font-family: monospace;font-weight: bold;background-color: white;display: inline-block;line-height: 1.2em;}div.sk-label-container {position: relative;z-index: 2;text-align: center;}div.sk-container {display: inline-block;position: relative;}</style><div class=\"sk-top-container\"><div class=\"sk-container\"><div class=\"sk-item sk-dashed-wrapped\"><div class=\"sk-label-container\"><div class=\"sk-label sk-toggleable\"><input class=\"sk-toggleable__control sk-hidden--visually\" id=\"50a40bd7-6365-4347-b482-672bb691cc9c\" type=\"checkbox\" ><label class=\"sk-toggleable__label\" for=\"50a40bd7-6365-4347-b482-672bb691cc9c\">Pipeline</label><div class=\"sk-toggleable__content\"><pre>Pipeline(steps=[('data_preprocessing',\n",
       "                 ColumnTransformer(transformers=[('numerical_pre',\n",
       "                                                  Pipeline(steps=[('num_scaler',\n",
       "                                                                   MinMaxScaler())]),\n",
       "                                                  ['rating']),\n",
       "                                                 ('categorical_pre',\n",
       "                                                  Pipeline(steps=[('cat_encoder',\n",
       "                                                                   OneHotEncoder(handle_unknown='ignore'))]),\n",
       "                                                  ['verified']),\n",
       "                                                 ('text_pre',\n",
       "                                                  Pipeline(steps=[('text_vect',\n",
       "                                                                   CountVectorizer(max_features=50))]),\n",
       "                                                  'reviewText')])),\n",
       "                ('ridgeRegressor', Lasso(alpha=0.001))])</pre></div></div></div><div class=\"sk-serial\"><div class=\"sk-item sk-dashed-wrapped\"><div class=\"sk-label-container\"><div class=\"sk-label sk-toggleable\"><input class=\"sk-toggleable__control sk-hidden--visually\" id=\"50ac5510-6274-4769-8bf4-5f62f1260175\" type=\"checkbox\" ><label class=\"sk-toggleable__label\" for=\"50ac5510-6274-4769-8bf4-5f62f1260175\">data_preprocessing: ColumnTransformer</label><div class=\"sk-toggleable__content\"><pre>ColumnTransformer(transformers=[('numerical_pre',\n",
       "                                 Pipeline(steps=[('num_scaler',\n",
       "                                                  MinMaxScaler())]),\n",
       "                                 ['rating']),\n",
       "                                ('categorical_pre',\n",
       "                                 Pipeline(steps=[('cat_encoder',\n",
       "                                                  OneHotEncoder(handle_unknown='ignore'))]),\n",
       "                                 ['verified']),\n",
       "                                ('text_pre',\n",
       "                                 Pipeline(steps=[('text_vect',\n",
       "                                                  CountVectorizer(max_features=50))]),\n",
       "                                 'reviewText')])</pre></div></div></div><div class=\"sk-parallel\"><div class=\"sk-parallel-item\"><div class=\"sk-item\"><div class=\"sk-label-container\"><div class=\"sk-label sk-toggleable\"><input class=\"sk-toggleable__control sk-hidden--visually\" id=\"0235f397-9269-474f-a500-2a248912ee91\" type=\"checkbox\" ><label class=\"sk-toggleable__label\" for=\"0235f397-9269-474f-a500-2a248912ee91\">numerical_pre</label><div class=\"sk-toggleable__content\"><pre>['rating']</pre></div></div></div><div class=\"sk-serial\"><div class=\"sk-item\"><div class=\"sk-serial\"><div class=\"sk-item\"><div class=\"sk-estimator sk-toggleable\"><input class=\"sk-toggleable__control sk-hidden--visually\" id=\"68028408-a6e4-4c8a-89b9-7d18f701628d\" type=\"checkbox\" ><label class=\"sk-toggleable__label\" for=\"68028408-a6e4-4c8a-89b9-7d18f701628d\">MinMaxScaler</label><div class=\"sk-toggleable__content\"><pre>MinMaxScaler()</pre></div></div></div></div></div></div></div></div><div class=\"sk-parallel-item\"><div class=\"sk-item\"><div class=\"sk-label-container\"><div class=\"sk-label sk-toggleable\"><input class=\"sk-toggleable__control sk-hidden--visually\" id=\"999a56ea-5ca9-429a-8240-41dfd02709d5\" type=\"checkbox\" ><label class=\"sk-toggleable__label\" for=\"999a56ea-5ca9-429a-8240-41dfd02709d5\">categorical_pre</label><div class=\"sk-toggleable__content\"><pre>['verified']</pre></div></div></div><div class=\"sk-serial\"><div class=\"sk-item\"><div class=\"sk-serial\"><div class=\"sk-item\"><div class=\"sk-estimator sk-toggleable\"><input class=\"sk-toggleable__control sk-hidden--visually\" id=\"33125fe1-ab72-4dda-9b70-a1ad9160659a\" type=\"checkbox\" ><label class=\"sk-toggleable__label\" for=\"33125fe1-ab72-4dda-9b70-a1ad9160659a\">OneHotEncoder</label><div class=\"sk-toggleable__content\"><pre>OneHotEncoder(handle_unknown='ignore')</pre></div></div></div></div></div></div></div></div><div class=\"sk-parallel-item\"><div class=\"sk-item\"><div class=\"sk-label-container\"><div class=\"sk-label sk-toggleable\"><input class=\"sk-toggleable__control sk-hidden--visually\" id=\"3b8f941c-3a74-4c81-a74a-f04ce729bb17\" type=\"checkbox\" ><label class=\"sk-toggleable__label\" for=\"3b8f941c-3a74-4c81-a74a-f04ce729bb17\">text_pre</label><div class=\"sk-toggleable__content\"><pre>reviewText</pre></div></div></div><div class=\"sk-serial\"><div class=\"sk-item\"><div class=\"sk-serial\"><div class=\"sk-item\"><div class=\"sk-estimator sk-toggleable\"><input class=\"sk-toggleable__control sk-hidden--visually\" id=\"9e5afaf3-c8a8-40ff-8f61-5e4437c87f20\" type=\"checkbox\" ><label class=\"sk-toggleable__label\" for=\"9e5afaf3-c8a8-40ff-8f61-5e4437c87f20\">CountVectorizer</label><div class=\"sk-toggleable__content\"><pre>CountVectorizer(max_features=50)</pre></div></div></div></div></div></div></div></div></div></div><div class=\"sk-item\"><div class=\"sk-estimator sk-toggleable\"><input class=\"sk-toggleable__control sk-hidden--visually\" id=\"07fa1127-7a81-4b41-88f4-35c22d16535d\" type=\"checkbox\" ><label class=\"sk-toggleable__label\" for=\"07fa1127-7a81-4b41-88f4-35c22d16535d\">Lasso</label><div class=\"sk-toggleable__content\"><pre>Lasso(alpha=0.001)</pre></div></div></div></div></div></div></div>"
      ],
      "text/plain": [
       "Pipeline(steps=[('data_preprocessing',\n",
       "                 ColumnTransformer(transformers=[('numerical_pre',\n",
       "                                                  Pipeline(steps=[('num_scaler',\n",
       "                                                                   MinMaxScaler())]),\n",
       "                                                  ['rating']),\n",
       "                                                 ('categorical_pre',\n",
       "                                                  Pipeline(steps=[('cat_encoder',\n",
       "                                                                   OneHotEncoder(handle_unknown='ignore'))]),\n",
       "                                                  ['verified']),\n",
       "                                                 ('text_pre',\n",
       "                                                  Pipeline(steps=[('text_vect',\n",
       "                                                                   CountVectorizer(max_features=50))]),\n",
       "                                                  'reviewText')])),\n",
       "                ('ridgeRegressor', Lasso(alpha=0.001))])"
      ]
     },
     "execution_count": 56,
     "metadata": {},
     "output_type": "execute_result"
    }
   ],
   "source": [
    "# Train the model\n",
    "l_pipeline.fit(X_train, y_train)"
   ]
  },
  {
   "cell_type": "code",
   "execution_count": 57,
   "metadata": {},
   "outputs": [
    {
     "name": "stdout",
     "output_type": "stream",
     "text": [
      "LassoRegression model weights: \n",
      " [-0.36384622  0.44930082 -0.          0.05570958 -0.          0.05884411\n",
      " -0.01152351 -0.0150697  -0.          0.04022096 -0.          0.05054691\n",
      " -0.02254984  0.04122417  0.00227151  0.02234159  0.01637584  0.01102972\n",
      "  0.          0.0529883   0.06872393  0.03516945  0.02167352  0.04002512\n",
      "  0.03187947  0.02842942  0.00423069  0.05600899  0.05840672  0.06436108\n",
      " -0.01362938  0.03609964  0.00307643  0.04555458  0.03873517  0.02847008\n",
      " -0.03257884  0.01715813  0.00549896  0.01932366 -0.          0.04915628\n",
      " -0.0095832   0.01687975  0.06280108  0.01705427  0.04937569  0.05354474\n",
      "  0.01258378 -0.00435497 -0.01115829 -0.          0.01992463]\n"
     ]
    }
   ],
   "source": [
    "print(\"LassoRegression model weights: \\n\", l_pipeline[-1].coef_)"
   ]
  },
  {
   "cell_type": "markdown",
   "metadata": {},
   "source": [
    "#### 6.4 ElasticNet (Linear Regression with L2 and L1 regularization)\n",
    "Let's finally try __ElasticNet__ from Sklearn library, and check the performance on the validation dataset.\n",
    "\n",
    "Find more details on __ElasticNet__ [here](https://scikit-learn.org/stable/modules/generated/sklearn.linear_model.ElasticNet.html).\n",
    "\n",
    "__ElasticNet__ is tuning model complexity by adding both $L_2$ and $L_1$ penalty scores for complexity to the model's cost function:\n",
    "\n",
    "$$\\text{C}_{\\text{regularized}}(\\textbf{w}) = \\text{C}(\\textbf{w}) +  0.5*alpha∗(1-\\textit{l1}_{ratio})||\\textbf{w}||_2^2 + alpha∗\\textit{l1}_{ratio}∗||\\textbf{w}||_1$$\n",
    "\n",
    "and using two parameters, $alpha$ and $\\textit{l1}_{ratio}$, to control the strength of the regularization."
   ]
  },
  {
   "cell_type": "code",
   "execution_count": 58,
   "metadata": {},
   "outputs": [],
   "source": [
    "from sklearn.linear_model import ElasticNet\n",
    "from sklearn.linear_model import Lasso\n",
    "\n",
    "### PIPELINE ###\n",
    "################\n",
    "\n",
    "en_pipeline = Pipeline([\n",
    "    ('data_preprocessing', data_preprocessor),\n",
    "    ('ridgeRegressor', ElasticNet(alpha = 0.001, l1_ratio = 0.1))\n",
    "                    ])"
   ]
  },
  {
   "cell_type": "code",
   "execution_count": 59,
   "metadata": {},
   "outputs": [
    {
     "data": {
      "text/html": [
       "<style>div.sk-top-container {color: black;background-color: white;}div.sk-toggleable {background-color: white;}label.sk-toggleable__label {cursor: pointer;display: block;width: 100%;margin-bottom: 0;padding: 0.2em 0.3em;box-sizing: border-box;text-align: center;}div.sk-toggleable__content {max-height: 0;max-width: 0;overflow: hidden;text-align: left;background-color: #f0f8ff;}div.sk-toggleable__content pre {margin: 0.2em;color: black;border-radius: 0.25em;background-color: #f0f8ff;}input.sk-toggleable__control:checked~div.sk-toggleable__content {max-height: 200px;max-width: 100%;overflow: auto;}div.sk-estimator input.sk-toggleable__control:checked~label.sk-toggleable__label {background-color: #d4ebff;}div.sk-label input.sk-toggleable__control:checked~label.sk-toggleable__label {background-color: #d4ebff;}input.sk-hidden--visually {border: 0;clip: rect(1px 1px 1px 1px);clip: rect(1px, 1px, 1px, 1px);height: 1px;margin: -1px;overflow: hidden;padding: 0;position: absolute;width: 1px;}div.sk-estimator {font-family: monospace;background-color: #f0f8ff;margin: 0.25em 0.25em;border: 1px dotted black;border-radius: 0.25em;box-sizing: border-box;}div.sk-estimator:hover {background-color: #d4ebff;}div.sk-parallel-item::after {content: \"\";width: 100%;border-bottom: 1px solid gray;flex-grow: 1;}div.sk-label:hover label.sk-toggleable__label {background-color: #d4ebff;}div.sk-serial::before {content: \"\";position: absolute;border-left: 1px solid gray;box-sizing: border-box;top: 2em;bottom: 0;left: 50%;}div.sk-serial {display: flex;flex-direction: column;align-items: center;background-color: white;}div.sk-item {z-index: 1;}div.sk-parallel {display: flex;align-items: stretch;justify-content: center;background-color: white;}div.sk-parallel-item {display: flex;flex-direction: column;position: relative;background-color: white;}div.sk-parallel-item:first-child::after {align-self: flex-end;width: 50%;}div.sk-parallel-item:last-child::after {align-self: flex-start;width: 50%;}div.sk-parallel-item:only-child::after {width: 0;}div.sk-dashed-wrapped {border: 1px dashed gray;margin: 0.2em;box-sizing: border-box;padding-bottom: 0.1em;background-color: white;position: relative;}div.sk-label label {font-family: monospace;font-weight: bold;background-color: white;display: inline-block;line-height: 1.2em;}div.sk-label-container {position: relative;z-index: 2;text-align: center;}div.sk-container {display: inline-block;position: relative;}</style><div class=\"sk-top-container\"><div class=\"sk-container\"><div class=\"sk-item sk-dashed-wrapped\"><div class=\"sk-label-container\"><div class=\"sk-label sk-toggleable\"><input class=\"sk-toggleable__control sk-hidden--visually\" id=\"c7a23e1c-e194-4b3f-8ad5-00742d474acd\" type=\"checkbox\" ><label class=\"sk-toggleable__label\" for=\"c7a23e1c-e194-4b3f-8ad5-00742d474acd\">Pipeline</label><div class=\"sk-toggleable__content\"><pre>Pipeline(steps=[('data_preprocessing',\n",
       "                 ColumnTransformer(transformers=[('numerical_pre',\n",
       "                                                  Pipeline(steps=[('num_scaler',\n",
       "                                                                   MinMaxScaler())]),\n",
       "                                                  ['rating']),\n",
       "                                                 ('categorical_pre',\n",
       "                                                  Pipeline(steps=[('cat_encoder',\n",
       "                                                                   OneHotEncoder(handle_unknown='ignore'))]),\n",
       "                                                  ['verified']),\n",
       "                                                 ('text_pre',\n",
       "                                                  Pipeline(steps=[('text_vect',\n",
       "                                                                   CountVectorizer(max_features=50))]),\n",
       "                                                  'reviewText')])),\n",
       "                ('ridgeRegressor', ElasticNet(alpha=0.001, l1_ratio=0.1))])</pre></div></div></div><div class=\"sk-serial\"><div class=\"sk-item sk-dashed-wrapped\"><div class=\"sk-label-container\"><div class=\"sk-label sk-toggleable\"><input class=\"sk-toggleable__control sk-hidden--visually\" id=\"56a9fdb9-12e5-4738-a94e-03142a7082e6\" type=\"checkbox\" ><label class=\"sk-toggleable__label\" for=\"56a9fdb9-12e5-4738-a94e-03142a7082e6\">data_preprocessing: ColumnTransformer</label><div class=\"sk-toggleable__content\"><pre>ColumnTransformer(transformers=[('numerical_pre',\n",
       "                                 Pipeline(steps=[('num_scaler',\n",
       "                                                  MinMaxScaler())]),\n",
       "                                 ['rating']),\n",
       "                                ('categorical_pre',\n",
       "                                 Pipeline(steps=[('cat_encoder',\n",
       "                                                  OneHotEncoder(handle_unknown='ignore'))]),\n",
       "                                 ['verified']),\n",
       "                                ('text_pre',\n",
       "                                 Pipeline(steps=[('text_vect',\n",
       "                                                  CountVectorizer(max_features=50))]),\n",
       "                                 'reviewText')])</pre></div></div></div><div class=\"sk-parallel\"><div class=\"sk-parallel-item\"><div class=\"sk-item\"><div class=\"sk-label-container\"><div class=\"sk-label sk-toggleable\"><input class=\"sk-toggleable__control sk-hidden--visually\" id=\"f3a4538d-4ce1-4c17-81ec-2fa8bcd245ac\" type=\"checkbox\" ><label class=\"sk-toggleable__label\" for=\"f3a4538d-4ce1-4c17-81ec-2fa8bcd245ac\">numerical_pre</label><div class=\"sk-toggleable__content\"><pre>['rating']</pre></div></div></div><div class=\"sk-serial\"><div class=\"sk-item\"><div class=\"sk-serial\"><div class=\"sk-item\"><div class=\"sk-estimator sk-toggleable\"><input class=\"sk-toggleable__control sk-hidden--visually\" id=\"57ee84b6-ec47-449b-9652-8117888df613\" type=\"checkbox\" ><label class=\"sk-toggleable__label\" for=\"57ee84b6-ec47-449b-9652-8117888df613\">MinMaxScaler</label><div class=\"sk-toggleable__content\"><pre>MinMaxScaler()</pre></div></div></div></div></div></div></div></div><div class=\"sk-parallel-item\"><div class=\"sk-item\"><div class=\"sk-label-container\"><div class=\"sk-label sk-toggleable\"><input class=\"sk-toggleable__control sk-hidden--visually\" id=\"40e85cdb-4d32-4554-8f38-f8ef86c02c89\" type=\"checkbox\" ><label class=\"sk-toggleable__label\" for=\"40e85cdb-4d32-4554-8f38-f8ef86c02c89\">categorical_pre</label><div class=\"sk-toggleable__content\"><pre>['verified']</pre></div></div></div><div class=\"sk-serial\"><div class=\"sk-item\"><div class=\"sk-serial\"><div class=\"sk-item\"><div class=\"sk-estimator sk-toggleable\"><input class=\"sk-toggleable__control sk-hidden--visually\" id=\"c4a5d227-7b54-418a-8023-a31efa83f1f0\" type=\"checkbox\" ><label class=\"sk-toggleable__label\" for=\"c4a5d227-7b54-418a-8023-a31efa83f1f0\">OneHotEncoder</label><div class=\"sk-toggleable__content\"><pre>OneHotEncoder(handle_unknown='ignore')</pre></div></div></div></div></div></div></div></div><div class=\"sk-parallel-item\"><div class=\"sk-item\"><div class=\"sk-label-container\"><div class=\"sk-label sk-toggleable\"><input class=\"sk-toggleable__control sk-hidden--visually\" id=\"8452678e-eef0-41b1-9dd1-a96c30bc40d8\" type=\"checkbox\" ><label class=\"sk-toggleable__label\" for=\"8452678e-eef0-41b1-9dd1-a96c30bc40d8\">text_pre</label><div class=\"sk-toggleable__content\"><pre>reviewText</pre></div></div></div><div class=\"sk-serial\"><div class=\"sk-item\"><div class=\"sk-serial\"><div class=\"sk-item\"><div class=\"sk-estimator sk-toggleable\"><input class=\"sk-toggleable__control sk-hidden--visually\" id=\"e3c00fe7-4ed4-4b0e-8d2f-b22522d648f5\" type=\"checkbox\" ><label class=\"sk-toggleable__label\" for=\"e3c00fe7-4ed4-4b0e-8d2f-b22522d648f5\">CountVectorizer</label><div class=\"sk-toggleable__content\"><pre>CountVectorizer(max_features=50)</pre></div></div></div></div></div></div></div></div></div></div><div class=\"sk-item\"><div class=\"sk-estimator sk-toggleable\"><input class=\"sk-toggleable__control sk-hidden--visually\" id=\"07f184b6-cf1e-4ea2-995a-ef99f8a97a4f\" type=\"checkbox\" ><label class=\"sk-toggleable__label\" for=\"07f184b6-cf1e-4ea2-995a-ef99f8a97a4f\">ElasticNet</label><div class=\"sk-toggleable__content\"><pre>ElasticNet(alpha=0.001, l1_ratio=0.1)</pre></div></div></div></div></div></div></div>"
      ],
      "text/plain": [
       "Pipeline(steps=[('data_preprocessing',\n",
       "                 ColumnTransformer(transformers=[('numerical_pre',\n",
       "                                                  Pipeline(steps=[('num_scaler',\n",
       "                                                                   MinMaxScaler())]),\n",
       "                                                  ['rating']),\n",
       "                                                 ('categorical_pre',\n",
       "                                                  Pipeline(steps=[('cat_encoder',\n",
       "                                                                   OneHotEncoder(handle_unknown='ignore'))]),\n",
       "                                                  ['verified']),\n",
       "                                                 ('text_pre',\n",
       "                                                  Pipeline(steps=[('text_vect',\n",
       "                                                                   CountVectorizer(max_features=50))]),\n",
       "                                                  'reviewText')])),\n",
       "                ('ridgeRegressor', ElasticNet(alpha=0.001, l1_ratio=0.1))])"
      ]
     },
     "execution_count": 59,
     "metadata": {},
     "output_type": "execute_result"
    }
   ],
   "source": [
    "# Train the model\n",
    "en_pipeline.fit(X_train, y_train)"
   ]
  },
  {
   "cell_type": "code",
   "execution_count": 60,
   "metadata": {},
   "outputs": [
    {
     "name": "stdout",
     "output_type": "stream",
     "text": [
      "ElasticNetRegression model weights: \n",
      " [-3.70375480e-01  2.29102296e-01 -2.20189901e-01  5.80869432e-02\n",
      " -9.74278756e-04  6.20715061e-02 -1.46864357e-02 -2.19445104e-02\n",
      " -3.06018616e-03  4.57318272e-02 -3.65824383e-03  5.25206555e-02\n",
      " -2.53254125e-02  4.12193549e-02  4.63843537e-03  2.61460520e-02\n",
      "  1.91355676e-02  1.21110670e-02 -2.18410982e-04  5.41949082e-02\n",
      "  7.17056884e-02  3.87074243e-02  2.37350019e-02  4.16157908e-02\n",
      "  3.15551696e-02  2.86125830e-02  7.16616223e-03  5.57446701e-02\n",
      "  5.84397077e-02  6.81684144e-02 -1.54853142e-02  3.83468119e-02\n",
      "  6.24660295e-03  4.51609521e-02  4.04053602e-02  3.12494521e-02\n",
      " -3.50377422e-02  2.08533519e-02  6.31168187e-03  2.22947861e-02\n",
      " -3.20824318e-03  5.11740399e-02 -1.28506489e-02  1.88608828e-02\n",
      "  6.49113847e-02  1.73302400e-02  5.10012833e-02  5.71689059e-02\n",
      "  1.67952852e-02 -6.63336339e-03 -1.46289830e-02 -3.17486445e-03\n",
      "  2.22778638e-02]\n"
     ]
    }
   ],
   "source": [
    "print(\"ElasticNetRegression model weights: \\n\", en_pipeline[-1].coef_)"
   ]
  },
  {
   "cell_type": "markdown",
   "metadata": {},
   "source": [
    "### 6.5 Weights shrinkage and sparsity\n",
    "\n",
    "Let's compare weights ranges for all these regression models:"
   ]
  },
  {
   "cell_type": "code",
   "execution_count": 61,
   "metadata": {},
   "outputs": [
    {
     "name": "stdout",
     "output_type": "stream",
     "text": [
      "LinearRegression weights range: \n",
      " 0.000912593607103485 0.3739573172420529\n",
      "\n",
      "\n",
      "Ridge weights range: \n",
      " 0.0010269364316794875 0.3675532676293602\n",
      "\n",
      "\n",
      "Lasso weights range: \n",
      " 0.0 0.44930082362164936\n",
      "\n",
      "\n",
      "ElasticNet weights range: \n",
      " 0.00021841098248097374 0.3703754799877656\n"
     ]
    }
   ],
   "source": [
    "import numpy as np\n",
    "print('LinearRegression weights range: \\n', np.abs(lr_pipeline[-1].coef_).min(), np.abs(lr_pipeline[-1].coef_).max())\n",
    "print('\\n')\n",
    "print('Ridge weights range: \\n', np.abs(r_pipeline[-1].coef_).min(), np.abs(r_pipeline[-1].coef_).max())\n",
    "print('\\n')\n",
    "print('Lasso weights range: \\n', np.abs(l_pipeline[-1].coef_).min(), np.abs(l_pipeline[-1].coef_).max())\n",
    "print('\\n')\n",
    "print('ElasticNet weights range: \\n', np.abs(en_pipeline[-1].coef_).min(), np.abs(en_pipeline[-1].coef_).max())"
   ]
  },
  {
   "cell_type": "markdown",
   "metadata": {},
   "source": [
    "The weights of all regularized models are lowered compared to __LinearRegression__, with some of the weights of __Lasso__ and __ElasticNet__ shrinked all the way to 0. Using sparsity, the __Lasso__ regularization reduces the number of features, performing feature selection."
   ]
  },
  {
   "cell_type": "markdown",
   "metadata": {},
   "source": [
    "## 7. <a name=\"7\">Test the regressor</a>\n",
    "(<a href=\"#0\">Go to top</a>)\n",
    "\n",
    "Now we test the model on \"unseen\" data (our test data).\n",
    "\n",
    "Before that, let's first see how the model works on the training dataset."
   ]
  },
  {
   "cell_type": "code",
   "execution_count": 62,
   "metadata": {},
   "outputs": [
    {
     "name": "stdout",
     "output_type": "stream",
     "text": [
      "LinearRegression on Train: Mean_squared_error: 0.694076,  R_square_score: 0.248334\n",
      "\n",
      "\n",
      "RidgeRegression on Train: Mean_squared_error: 0.694084,  R_square_score: 0.248325\n",
      "\n",
      "\n",
      "LassoRegression on Train: Mean_squared_error: 0.694214,  R_square_score: 0.248184\n",
      "\n",
      "\n",
      "ElasticNetRegression on Train: Mean_squared_error: 0.694080,  R_square_score: 0.248329\n"
     ]
    }
   ],
   "source": [
    "from sklearn.metrics import r2_score, mean_squared_error\n",
    "\n",
    "# Use the fitted model to make predictions on the train dataset\n",
    "print(\"LinearRegression on Train: Mean_squared_error: %f,  R_square_score: %f\" % \\\n",
    "      (mean_squared_error(y_train, lr_pipeline.predict(X_train)),r2_score(y_train, lr_pipeline.predict(X_train))))\n",
    "print('\\n')\n",
    "print(\"RidgeRegression on Train: Mean_squared_error: %f,  R_square_score: %f\" % \\\n",
    "      (mean_squared_error(y_train, r_pipeline.predict(X_train)),r2_score(y_train, r_pipeline.predict(X_train))))\n",
    "print('\\n')\n",
    "print(\"LassoRegression on Train: Mean_squared_error: %f,  R_square_score: %f\" % \\\n",
    "      (mean_squared_error(y_train, l_pipeline.predict(X_train)),r2_score(y_train, l_pipeline.predict(X_train))))\n",
    "print('\\n')\n",
    "print(\"ElasticNetRegression on Train: Mean_squared_error: %f,  R_square_score: %f\" % \\\n",
    "      (mean_squared_error(y_train, en_pipeline.predict(X_train)),r2_score(y_train, en_pipeline.predict(X_train))))\n"
   ]
  },
  {
   "cell_type": "markdown",
   "metadata": {},
   "source": [
    "And now, let's evaluate the performance of the regressor on the test set."
   ]
  },
  {
   "cell_type": "code",
   "execution_count": 63,
   "metadata": {},
   "outputs": [
    {
     "name": "stdout",
     "output_type": "stream",
     "text": [
      "LinearRegression on Test: Mean_squared_error: 0.674758,  R_square_score: 0.256045\n",
      "\n",
      "\n",
      "RidgeRegression on Test: Mean_squared_error: 0.674795,  R_square_score: 0.256005\n",
      "\n",
      "\n",
      "LassoRegression on Test: Mean_squared_error: 0.674449,  R_square_score: 0.256386\n",
      "\n",
      "\n",
      "ElasticNetRegression on Test: Mean_squared_error: 0.674703,  R_square_score: 0.256106\n"
     ]
    }
   ],
   "source": [
    "# Use the fitted model to make predictions on the train dataset\n",
    "print(\"LinearRegression on Test: Mean_squared_error: %f,  R_square_score: %f\" % \\\n",
    "      (mean_squared_error(y_test, lr_pipeline.predict(X_test)),r2_score(y_test, lr_pipeline.predict(X_test))))\n",
    "print('\\n')\n",
    "print(\"RidgeRegression on Test: Mean_squared_error: %f,  R_square_score: %f\" % \\\n",
    "      (mean_squared_error(y_test, r_pipeline.predict(X_test)),r2_score(y_test, r_pipeline.predict(X_test))))\n",
    "print('\\n')\n",
    "print(\"LassoRegression on Test: Mean_squared_error: %f,  R_square_score: %f\" % \\\n",
    "      (mean_squared_error(y_test, l_pipeline.predict(X_test)),r2_score(y_test, l_pipeline.predict(X_test))))\n",
    "print('\\n')\n",
    "print(\"ElasticNetRegression on Test: Mean_squared_error: %f,  R_square_score: %f\" % \\\n",
    "      (mean_squared_error(y_test, en_pipeline.predict(X_test)),r2_score(y_test, en_pipeline.predict(X_test))))\n"
   ]
  },
  {
   "cell_type": "markdown",
   "metadata": {},
   "source": [
    "### 8. Ideas for improvement\n",
    "\n",
    "One way to improve the performance of a linear regression model is to try different strenghts of regularization, here controlled by the parameters $alpha$ and $\\textit{l1}_{ratio}$.\n",
    "\n",
    "* Try different values of $alpha$ and $\\textit{l1}_{ratio}$"
   ]
  }
 ],
 "metadata": {
  "kernelspec": {
   "display_name": "conda_python3",
   "language": "python",
   "name": "conda_python3"
  },
  "language_info": {
   "codemirror_mode": {
    "name": "ipython",
    "version": 3
   },
   "file_extension": ".py",
   "mimetype": "text/x-python",
   "name": "python",
   "nbconvert_exporter": "python",
   "pygments_lexer": "ipython3",
   "version": "3.6.13"
  }
 },
 "nbformat": 4,
 "nbformat_minor": 4
}
