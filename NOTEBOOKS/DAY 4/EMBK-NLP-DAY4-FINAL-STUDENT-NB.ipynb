{
 "cells": [
  {
   "cell_type": "markdown",
   "metadata": {},
   "source": [
    "## Final Project Day 4: AutoGluon TabularPrediction for a Classification Problem\n",
    "\n",
    "Let's finally see how __AutoGluon TabularPrediction__ works to predict the __isPositive__ field of our final project dataset.\n",
    "\n",
    "* We are giving you two pieces of code to read your training and test datasets.\n",
    "* Use the notebooks from the class and implement the model, train and test with the corresponding datasets.\n",
    "* You can use the __AutoGluon TabularPrediction__ from here: https://autogluon.mxnet.io/tutorials/tabular_prediction/index.html\n",
    "\n",
    "Overall dataset schema:\n",
    "* __reviewText:__ Text of the review\n",
    "* __summary:__ Summary of the review\n",
    "* __verified:__ Whether the purchase was verified (True or False)\n",
    "* __time:__ UNIX timestamp for the review\n",
    "* __log_votes:__ Logarithm-adjusted votes log(1+votes)\n",
    "* __isPositive:__ Rating of the review\n"
   ]
  },
  {
   "cell_type": "markdown",
   "metadata": {},
   "source": [
    "### 1. Reading the datasets\n",
    "\n",
    "We will use the __pandas__ library to read our datasets."
   ]
  },
  {
   "cell_type": "code",
   "execution_count": 1,
   "metadata": {},
   "outputs": [],
   "source": [
    "# Copyright Amazon.com, Inc. or its affiliates. All Rights Reserved.\n",
    "# SPDX-License-Identifier: MIT-0\n",
    "\n",
    "import pandas as pd\n",
    "\n",
    "df_train = pd.read_csv('../../DATA/NLP/EMBK-NLP-FINAL-TRAIN-CSV.csv')"
   ]
  },
  {
   "cell_type": "code",
   "execution_count": 2,
   "metadata": {},
   "outputs": [
    {
     "data": {
      "text/html": [
       "<div>\n",
       "<style scoped>\n",
       "    .dataframe tbody tr th:only-of-type {\n",
       "        vertical-align: middle;\n",
       "    }\n",
       "\n",
       "    .dataframe tbody tr th {\n",
       "        vertical-align: top;\n",
       "    }\n",
       "\n",
       "    .dataframe thead th {\n",
       "        text-align: right;\n",
       "    }\n",
       "</style>\n",
       "<table border=\"1\" class=\"dataframe\">\n",
       "  <thead>\n",
       "    <tr style=\"text-align: right;\">\n",
       "      <th></th>\n",
       "      <th>reviewText</th>\n",
       "      <th>summary</th>\n",
       "      <th>verified</th>\n",
       "      <th>time</th>\n",
       "      <th>log_votes</th>\n",
       "      <th>isPositive</th>\n",
       "    </tr>\n",
       "  </thead>\n",
       "  <tbody>\n",
       "    <tr>\n",
       "      <th>0</th>\n",
       "      <td>PURCHASED FOR YOUNGSTER WHO\\nINHERITED MY \"TOO...</td>\n",
       "      <td>IDEAL FOR BEGINNER!</td>\n",
       "      <td>True</td>\n",
       "      <td>1361836800</td>\n",
       "      <td>0.000000</td>\n",
       "      <td>1.0</td>\n",
       "    </tr>\n",
       "    <tr>\n",
       "      <th>1</th>\n",
       "      <td>unable to open or use</td>\n",
       "      <td>Two Stars</td>\n",
       "      <td>True</td>\n",
       "      <td>1452643200</td>\n",
       "      <td>0.000000</td>\n",
       "      <td>0.0</td>\n",
       "    </tr>\n",
       "    <tr>\n",
       "      <th>2</th>\n",
       "      <td>Waste of money!!! It wouldn't load to my system.</td>\n",
       "      <td>Dont buy it!</td>\n",
       "      <td>True</td>\n",
       "      <td>1433289600</td>\n",
       "      <td>0.000000</td>\n",
       "      <td>0.0</td>\n",
       "    </tr>\n",
       "    <tr>\n",
       "      <th>3</th>\n",
       "      <td>I attempted to install this OS on two differen...</td>\n",
       "      <td>I attempted to install this OS on two differen...</td>\n",
       "      <td>True</td>\n",
       "      <td>1518912000</td>\n",
       "      <td>0.000000</td>\n",
       "      <td>0.0</td>\n",
       "    </tr>\n",
       "    <tr>\n",
       "      <th>4</th>\n",
       "      <td>I've spent 14 fruitless hours over the past tw...</td>\n",
       "      <td>Do NOT Download.</td>\n",
       "      <td>True</td>\n",
       "      <td>1441929600</td>\n",
       "      <td>1.098612</td>\n",
       "      <td>0.0</td>\n",
       "    </tr>\n",
       "  </tbody>\n",
       "</table>\n",
       "</div>"
      ],
      "text/plain": [
       "                                          reviewText  \\\n",
       "0  PURCHASED FOR YOUNGSTER WHO\\nINHERITED MY \"TOO...   \n",
       "1                              unable to open or use   \n",
       "2   Waste of money!!! It wouldn't load to my system.   \n",
       "3  I attempted to install this OS on two differen...   \n",
       "4  I've spent 14 fruitless hours over the past tw...   \n",
       "\n",
       "                                             summary  verified        time  \\\n",
       "0                                IDEAL FOR BEGINNER!      True  1361836800   \n",
       "1                                          Two Stars      True  1452643200   \n",
       "2                                       Dont buy it!      True  1433289600   \n",
       "3  I attempted to install this OS on two differen...      True  1518912000   \n",
       "4                                   Do NOT Download.      True  1441929600   \n",
       "\n",
       "   log_votes  isPositive  \n",
       "0   0.000000         1.0  \n",
       "1   0.000000         0.0  \n",
       "2   0.000000         0.0  \n",
       "3   0.000000         0.0  \n",
       "4   1.098612         0.0  "
      ]
     },
     "execution_count": 2,
     "metadata": {},
     "output_type": "execute_result"
    }
   ],
   "source": [
    "df_train.head()"
   ]
  },
  {
   "cell_type": "code",
   "execution_count": 3,
   "metadata": {},
   "outputs": [],
   "source": [
    "import pandas as pd\n",
    "\n",
    "df_test = pd.read_csv('../../DATA/NLP/EMBK-NLP-FINAL-TEST-CSV.csv')"
   ]
  },
  {
   "cell_type": "code",
   "execution_count": 4,
   "metadata": {},
   "outputs": [
    {
     "data": {
      "text/html": [
       "<div>\n",
       "<style scoped>\n",
       "    .dataframe tbody tr th:only-of-type {\n",
       "        vertical-align: middle;\n",
       "    }\n",
       "\n",
       "    .dataframe tbody tr th {\n",
       "        vertical-align: top;\n",
       "    }\n",
       "\n",
       "    .dataframe thead th {\n",
       "        text-align: right;\n",
       "    }\n",
       "</style>\n",
       "<table border=\"1\" class=\"dataframe\">\n",
       "  <thead>\n",
       "    <tr style=\"text-align: right;\">\n",
       "      <th></th>\n",
       "      <th>reviewText</th>\n",
       "      <th>summary</th>\n",
       "      <th>verified</th>\n",
       "      <th>time</th>\n",
       "      <th>log_votes</th>\n",
       "      <th>isPositive</th>\n",
       "    </tr>\n",
       "  </thead>\n",
       "  <tbody>\n",
       "    <tr>\n",
       "      <th>0</th>\n",
       "      <td>Kaspersky offers the best security for your co...</td>\n",
       "      <td>State of the art protection</td>\n",
       "      <td>True</td>\n",
       "      <td>1465516800</td>\n",
       "      <td>0.000000</td>\n",
       "      <td>1.0</td>\n",
       "    </tr>\n",
       "    <tr>\n",
       "      <th>1</th>\n",
       "      <td>This Value was extremely discounted which I ap...</td>\n",
       "      <td>Quickbooks</td>\n",
       "      <td>True</td>\n",
       "      <td>1393632000</td>\n",
       "      <td>0.000000</td>\n",
       "      <td>1.0</td>\n",
       "    </tr>\n",
       "    <tr>\n",
       "      <th>2</th>\n",
       "      <td>Some dufus probably got stock options by the t...</td>\n",
       "      <td>Sad</td>\n",
       "      <td>False</td>\n",
       "      <td>1228176000</td>\n",
       "      <td>2.639057</td>\n",
       "      <td>0.0</td>\n",
       "    </tr>\n",
       "    <tr>\n",
       "      <th>3</th>\n",
       "      <td>I have reviewed the software and it is beyond ...</td>\n",
       "      <td>Excellent product</td>\n",
       "      <td>True</td>\n",
       "      <td>1402531200</td>\n",
       "      <td>0.000000</td>\n",
       "      <td>1.0</td>\n",
       "    </tr>\n",
       "    <tr>\n",
       "      <th>4</th>\n",
       "      <td>Plain old simple you need Anti-Virus,I have tr...</td>\n",
       "      <td>A must have</td>\n",
       "      <td>True</td>\n",
       "      <td>1367539200</td>\n",
       "      <td>0.000000</td>\n",
       "      <td>1.0</td>\n",
       "    </tr>\n",
       "  </tbody>\n",
       "</table>\n",
       "</div>"
      ],
      "text/plain": [
       "                                          reviewText  \\\n",
       "0  Kaspersky offers the best security for your co...   \n",
       "1  This Value was extremely discounted which I ap...   \n",
       "2  Some dufus probably got stock options by the t...   \n",
       "3  I have reviewed the software and it is beyond ...   \n",
       "4  Plain old simple you need Anti-Virus,I have tr...   \n",
       "\n",
       "                       summary  verified        time  log_votes  isPositive  \n",
       "0  State of the art protection      True  1465516800   0.000000         1.0  \n",
       "1                   Quickbooks      True  1393632000   0.000000         1.0  \n",
       "2                          Sad     False  1228176000   2.639057         0.0  \n",
       "3            Excellent product      True  1402531200   0.000000         1.0  \n",
       "4                  A must have      True  1367539200   0.000000         1.0  "
      ]
     },
     "execution_count": 4,
     "metadata": {},
     "output_type": "execute_result"
    }
   ],
   "source": [
    "df_test.head()"
   ]
  },
  {
   "cell_type": "code",
   "execution_count": 5,
   "metadata": {},
   "outputs": [
    {
     "name": "stdout",
     "output_type": "stream",
     "text": [
      "The shape of the training dataset is: (70000, 6)\n",
      "The shape of the test dataset is: (8000, 6)\n"
     ]
    }
   ],
   "source": [
    "print('The shape of the training dataset is:', df_train.shape)\n",
    "print('The shape of the test dataset is:', df_test.shape)"
   ]
  },
  {
   "cell_type": "markdown",
   "metadata": {},
   "source": [
    "### 2. Setup the AutoGluon environment "
   ]
  },
  {
   "cell_type": "code",
   "execution_count": 6,
   "metadata": {},
   "outputs": [
    {
     "name": "stdout",
     "output_type": "stream",
     "text": [
      "Requirement already up-to-date: pip in /home/ec2-user/anaconda3/envs/mxnet_p36/lib/python3.6/site-packages (20.0.2)\n",
      "Requirement already up-to-date: mxnet in /home/ec2-user/anaconda3/envs/mxnet_p36/lib/python3.6/site-packages (1.6.0)\n",
      "Requirement already up-to-date: autogluon in /home/ec2-user/anaconda3/envs/mxnet_p36/lib/python3.6/site-packages (0.0.5)\n",
      "Requirement already satisfied, skipping upgrade: graphviz<0.9.0,>=0.8.1 in /home/ec2-user/anaconda3/envs/mxnet_p36/lib/python3.6/site-packages (from mxnet) (0.8.4)\n",
      "Requirement already satisfied, skipping upgrade: numpy<2.0.0,>1.16.0 in /home/ec2-user/anaconda3/envs/mxnet_p36/lib/python3.6/site-packages (from mxnet) (1.16.4)\n",
      "Requirement already satisfied, skipping upgrade: requests<3,>=2.20.0 in /home/ec2-user/anaconda3/envs/mxnet_p36/lib/python3.6/site-packages (from mxnet) (2.20.0)\n",
      "Requirement already satisfied, skipping upgrade: catboost in /home/ec2-user/anaconda3/envs/mxnet_p36/lib/python3.6/site-packages (from autogluon) (0.21)\n",
      "Requirement already satisfied, skipping upgrade: matplotlib in /home/ec2-user/anaconda3/envs/mxnet_p36/lib/python3.6/site-packages (from autogluon) (3.0.3)\n",
      "Requirement already satisfied, skipping upgrade: boto3==1.9.187 in /home/ec2-user/anaconda3/envs/mxnet_p36/lib/python3.6/site-packages (from autogluon) (1.9.187)\n",
      "Requirement already satisfied, skipping upgrade: ConfigSpace<=0.4.10 in /home/ec2-user/anaconda3/envs/mxnet_p36/lib/python3.6/site-packages (from autogluon) (0.4.10)\n",
      "Requirement already satisfied, skipping upgrade: distributed==2.6.0 in /home/ec2-user/anaconda3/envs/mxnet_p36/lib/python3.6/site-packages (from autogluon) (2.6.0)\n",
      "Requirement already satisfied, skipping upgrade: tqdm>=4.38.0 in /home/ec2-user/anaconda3/envs/mxnet_p36/lib/python3.6/site-packages (from autogluon) (4.43.0)\n",
      "Requirement already satisfied, skipping upgrade: psutil>=5.0.0 in /home/ec2-user/anaconda3/envs/mxnet_p36/lib/python3.6/site-packages (from autogluon) (5.6.3)\n",
      "Requirement already satisfied, skipping upgrade: cython in /home/ec2-user/anaconda3/envs/mxnet_p36/lib/python3.6/site-packages (from autogluon) (0.28.2)\n",
      "Requirement already satisfied, skipping upgrade: gluonnlp==0.8.1 in /home/ec2-user/anaconda3/envs/mxnet_p36/lib/python3.6/site-packages (from autogluon) (0.8.1)\n",
      "Requirement already satisfied, skipping upgrade: lightgbm==2.3.0 in /home/ec2-user/anaconda3/envs/mxnet_p36/lib/python3.6/site-packages (from autogluon) (2.3.0)\n",
      "Requirement already satisfied, skipping upgrade: tornado>=5.0.1 in /home/ec2-user/anaconda3/envs/mxnet_p36/lib/python3.6/site-packages (from autogluon) (5.0.2)\n",
      "Requirement already satisfied, skipping upgrade: cryptography>=2.8 in /home/ec2-user/anaconda3/envs/mxnet_p36/lib/python3.6/site-packages (from autogluon) (2.8)\n",
      "Requirement already satisfied, skipping upgrade: scipy>=1.3.3 in /home/ec2-user/anaconda3/envs/mxnet_p36/lib/python3.6/site-packages (from autogluon) (1.4.1)\n",
      "Requirement already satisfied, skipping upgrade: paramiko>=2.5.0 in /home/ec2-user/anaconda3/envs/mxnet_p36/lib/python3.6/site-packages (from autogluon) (2.6.0)\n",
      "Requirement already satisfied, skipping upgrade: scikit-optimize in /home/ec2-user/anaconda3/envs/mxnet_p36/lib/python3.6/site-packages (from autogluon) (0.7.2)\n",
      "Requirement already satisfied, skipping upgrade: scikit-learn==0.21.2 in /home/ec2-user/anaconda3/envs/mxnet_p36/lib/python3.6/site-packages (from autogluon) (0.21.2)\n",
      "Requirement already satisfied, skipping upgrade: pandas<1.0,>=0.24.0 in /home/ec2-user/anaconda3/envs/mxnet_p36/lib/python3.6/site-packages (from autogluon) (0.24.2)\n",
      "Requirement already satisfied, skipping upgrade: gluoncv>=0.5.0 in /home/ec2-user/anaconda3/envs/mxnet_p36/lib/python3.6/site-packages (from autogluon) (0.6.0)\n",
      "Requirement already satisfied, skipping upgrade: dask==2.6.0 in /home/ec2-user/anaconda3/envs/mxnet_p36/lib/python3.6/site-packages (from autogluon) (2.6.0)\n",
      "Requirement already satisfied, skipping upgrade: Pillow<=6.2.1 in /home/ec2-user/anaconda3/envs/mxnet_p36/lib/python3.6/site-packages (from autogluon) (5.2.0)\n",
      "Requirement already satisfied, skipping upgrade: certifi>=2017.4.17 in /home/ec2-user/anaconda3/envs/mxnet_p36/lib/python3.6/site-packages (from requests<3,>=2.20.0->mxnet) (2019.9.11)\n",
      "Requirement already satisfied, skipping upgrade: urllib3<1.25,>=1.21.1 in /home/ec2-user/anaconda3/envs/mxnet_p36/lib/python3.6/site-packages (from requests<3,>=2.20.0->mxnet) (1.23)\n",
      "Requirement already satisfied, skipping upgrade: chardet<3.1.0,>=3.0.2 in /home/ec2-user/anaconda3/envs/mxnet_p36/lib/python3.6/site-packages (from requests<3,>=2.20.0->mxnet) (3.0.4)\n",
      "Requirement already satisfied, skipping upgrade: idna<2.8,>=2.5 in /home/ec2-user/anaconda3/envs/mxnet_p36/lib/python3.6/site-packages (from requests<3,>=2.20.0->mxnet) (2.6)\n",
      "Requirement already satisfied, skipping upgrade: plotly in /home/ec2-user/anaconda3/envs/mxnet_p36/lib/python3.6/site-packages (from catboost->autogluon) (4.3.0)\n",
      "Requirement already satisfied, skipping upgrade: six in /home/ec2-user/anaconda3/envs/mxnet_p36/lib/python3.6/site-packages (from catboost->autogluon) (1.11.0)\n",
      "Requirement already satisfied, skipping upgrade: cycler>=0.10 in /home/ec2-user/anaconda3/envs/mxnet_p36/lib/python3.6/site-packages (from matplotlib->autogluon) (0.10.0)\n",
      "Requirement already satisfied, skipping upgrade: python-dateutil>=2.1 in /home/ec2-user/anaconda3/envs/mxnet_p36/lib/python3.6/site-packages (from matplotlib->autogluon) (2.7.3)\n",
      "Requirement already satisfied, skipping upgrade: pyparsing!=2.0.4,!=2.1.2,!=2.1.6,>=2.0.1 in /home/ec2-user/anaconda3/envs/mxnet_p36/lib/python3.6/site-packages (from matplotlib->autogluon) (2.2.0)\n",
      "Requirement already satisfied, skipping upgrade: kiwisolver>=1.0.1 in /home/ec2-user/anaconda3/envs/mxnet_p36/lib/python3.6/site-packages (from matplotlib->autogluon) (1.0.1)\n",
      "Requirement already satisfied, skipping upgrade: botocore<1.13.0,>=1.12.187 in /home/ec2-user/anaconda3/envs/mxnet_p36/lib/python3.6/site-packages (from boto3==1.9.187->autogluon) (1.12.253)\n",
      "Requirement already satisfied, skipping upgrade: s3transfer<0.3.0,>=0.2.0 in /home/ec2-user/anaconda3/envs/mxnet_p36/lib/python3.6/site-packages (from boto3==1.9.187->autogluon) (0.2.1)\n",
      "Requirement already satisfied, skipping upgrade: jmespath<1.0.0,>=0.7.1 in /home/ec2-user/anaconda3/envs/mxnet_p36/lib/python3.6/site-packages (from boto3==1.9.187->autogluon) (0.9.4)\n",
      "Requirement already satisfied, skipping upgrade: typing in /home/ec2-user/anaconda3/envs/mxnet_p36/lib/python3.6/site-packages (from ConfigSpace<=0.4.10->autogluon) (3.6.4)\n",
      "Requirement already satisfied, skipping upgrade: zict>=0.1.3 in /home/ec2-user/anaconda3/envs/mxnet_p36/lib/python3.6/site-packages (from distributed==2.6.0->autogluon) (0.1.3)\n",
      "Requirement already satisfied, skipping upgrade: tblib in /home/ec2-user/anaconda3/envs/mxnet_p36/lib/python3.6/site-packages (from distributed==2.6.0->autogluon) (1.3.2)\n",
      "Requirement already satisfied, skipping upgrade: pyyaml in /home/ec2-user/anaconda3/envs/mxnet_p36/lib/python3.6/site-packages (from distributed==2.6.0->autogluon) (5.2)\n",
      "Requirement already satisfied, skipping upgrade: click>=6.6 in /home/ec2-user/anaconda3/envs/mxnet_p36/lib/python3.6/site-packages (from distributed==2.6.0->autogluon) (6.7)\n",
      "Requirement already satisfied, skipping upgrade: msgpack in /home/ec2-user/anaconda3/envs/mxnet_p36/lib/python3.6/site-packages (from distributed==2.6.0->autogluon) (0.6.0)\n",
      "Requirement already satisfied, skipping upgrade: toolz>=0.7.4 in /home/ec2-user/anaconda3/envs/mxnet_p36/lib/python3.6/site-packages (from distributed==2.6.0->autogluon) (0.9.0)\n",
      "Requirement already satisfied, skipping upgrade: sortedcontainers!=2.0.0,!=2.0.1 in /home/ec2-user/anaconda3/envs/mxnet_p36/lib/python3.6/site-packages (from distributed==2.6.0->autogluon) (1.5.10)\n",
      "Requirement already satisfied, skipping upgrade: cloudpickle>=0.2.2 in /home/ec2-user/anaconda3/envs/mxnet_p36/lib/python3.6/site-packages (from distributed==2.6.0->autogluon) (0.5.3)\n",
      "Requirement already satisfied, skipping upgrade: cffi!=1.11.3,>=1.8 in /home/ec2-user/anaconda3/envs/mxnet_p36/lib/python3.6/site-packages (from cryptography>=2.8->autogluon) (1.11.5)\n",
      "Requirement already satisfied, skipping upgrade: bcrypt>=3.1.3 in /home/ec2-user/anaconda3/envs/mxnet_p36/lib/python3.6/site-packages (from paramiko>=2.5.0->autogluon) (3.1.7)\n",
      "Requirement already satisfied, skipping upgrade: pynacl>=1.0.1 in /home/ec2-user/anaconda3/envs/mxnet_p36/lib/python3.6/site-packages (from paramiko>=2.5.0->autogluon) (1.3.0)\n",
      "Requirement already satisfied, skipping upgrade: pyaml in /home/ec2-user/anaconda3/envs/mxnet_p36/lib/python3.6/site-packages (from scikit-optimize->autogluon) (19.12.0)\n",
      "Requirement already satisfied, skipping upgrade: joblib in /home/ec2-user/anaconda3/envs/mxnet_p36/lib/python3.6/site-packages (from scikit-optimize->autogluon) (0.14.1)\n",
      "Requirement already satisfied, skipping upgrade: pytz>=2011k in /home/ec2-user/anaconda3/envs/mxnet_p36/lib/python3.6/site-packages (from pandas<1.0,>=0.24.0->autogluon) (2018.4)\n",
      "Requirement already satisfied, skipping upgrade: portalocker in /home/ec2-user/anaconda3/envs/mxnet_p36/lib/python3.6/site-packages (from gluoncv>=0.5.0->autogluon) (1.5.2)\n"
     ]
    },
    {
     "name": "stdout",
     "output_type": "stream",
     "text": [
      "Requirement already satisfied, skipping upgrade: retrying>=1.3.3 in /home/ec2-user/anaconda3/envs/mxnet_p36/lib/python3.6/site-packages (from plotly->catboost->autogluon) (1.3.3)\r\n",
      "Requirement already satisfied, skipping upgrade: setuptools in /home/ec2-user/anaconda3/envs/mxnet_p36/lib/python3.6/site-packages (from kiwisolver>=1.0.1->matplotlib->autogluon) (39.1.0)\r\n",
      "Requirement already satisfied, skipping upgrade: docutils<0.16,>=0.10 in /home/ec2-user/anaconda3/envs/mxnet_p36/lib/python3.6/site-packages (from botocore<1.13.0,>=1.12.187->boto3==1.9.187->autogluon) (0.14)\r\n",
      "Requirement already satisfied, skipping upgrade: heapdict in /home/ec2-user/anaconda3/envs/mxnet_p36/lib/python3.6/site-packages (from zict>=0.1.3->distributed==2.6.0->autogluon) (1.0.0)\r\n",
      "Requirement already satisfied, skipping upgrade: pycparser in /home/ec2-user/anaconda3/envs/mxnet_p36/lib/python3.6/site-packages (from cffi!=1.11.3,>=1.8->cryptography>=2.8->autogluon) (2.18)\r\n"
     ]
    }
   ],
   "source": [
    "# Setup the AutoGluon environment\n",
    "# WARNING: this might take a couple of minutes the first time around!\n",
    "!pip install --upgrade pip\n",
    "!pip install --upgrade mxnet autogluon\n",
    "\n",
    "import warnings\n",
    "warnings.filterwarnings('ignore')\n"
   ]
  }
 ],
 "metadata": {
  "kernelspec": {
   "display_name": "conda_mxnet_p36",
   "language": "python",
   "name": "conda_mxnet_p36"
  },
  "language_info": {
   "codemirror_mode": {
    "name": "ipython",
    "version": 3
   },
   "file_extension": ".py",
   "mimetype": "text/x-python",
   "name": "python",
   "nbconvert_exporter": "python",
   "pygments_lexer": "ipython3",
   "version": "3.6.5"
  }
 },
 "nbformat": 4,
 "nbformat_minor": 2
}
