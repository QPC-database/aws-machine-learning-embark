{
 "cells": [
  {
   "cell_type": "markdown",
   "metadata": {},
   "source": [
    "## AutoGluon TabularPrediction for a Regression Problem \n",
    "\n",
    "In this notebook, we use __AutoGluon TabularPrediction__ on our regression problem to predict the __log_votes__ field of our review dataset.\n",
    "\n",
    "* Find more details on the AutoGluon TabularPrediction here: https://autogluon.mxnet.io/tutorials/tabular_prediction/index.html\n",
    "\n",
    "Via a simple __fit()__ call, __AutoGluon TabularPrediction__ can produce a highly-accurate model to predict the values in the __log_votes__ column of our data table based on the rest of the columns’ values. \n",
    "\n",
    "__AutoGluon__ with tabular data works for both classification and regression problems. Moreover, we do not need to specify the kind of problem, as this it automatically inferred from the data and the appropriate performance metric is reported (by default, RMSE for regression, and accuracy for classification).\n",
    "\n",
    "__AutoGluon__ also automatically decides which variables should be represented as integers, which variables should be represented as categorical objects, and handles common issues like missing data and rescaling feature values.\n",
    "\n",
    "Rather than just a single model, __AutoGluon__ trains multiple models and ensembles them together to ensure superior predictive performance. Each type of model has various hyperparameters, which traditionally, the user would have to specify. __AutoGluon__ automates this process, including cross-validation, so there is no need to specify separate validation data.\n",
    "\n",
    "Overall dataset schema:\n",
    "* __reviewText:__ Text of the review\n",
    "* __summary:__ Summary of the review\n",
    "* __verified:__ Whether the purchase was verified (True or False)\n",
    "* __time:__ UNIX timestamp for the review\n",
    "* __rating:__ Rating of the review\n",
    "* __log_votes:__ Logarithm-adjusted votes log(1+votes)\n"
   ]
  },
  {
   "cell_type": "markdown",
   "metadata": {},
   "source": [
    "### 1. Setup the AutoGluon environment "
   ]
  },
  {
   "cell_type": "code",
   "execution_count": 1,
   "metadata": {},
   "outputs": [
    {
     "name": "stdout",
     "output_type": "stream",
     "text": [
      "Requirement already up-to-date: pip in /home/ec2-user/anaconda3/envs/mxnet_p36/lib/python3.6/site-packages (20.0.2)\n",
      "Requirement already up-to-date: mxnet in /home/ec2-user/anaconda3/envs/mxnet_p36/lib/python3.6/site-packages (1.5.1.post0)\n",
      "Requirement already up-to-date: autogluon in /home/ec2-user/anaconda3/envs/mxnet_p36/lib/python3.6/site-packages (0.0.5)\n",
      "Requirement already satisfied, skipping upgrade: numpy<2.0.0,>1.16.0 in /home/ec2-user/anaconda3/envs/mxnet_p36/lib/python3.6/site-packages (from mxnet) (1.16.4)\n",
      "Requirement already satisfied, skipping upgrade: graphviz<0.9.0,>=0.8.1 in /home/ec2-user/anaconda3/envs/mxnet_p36/lib/python3.6/site-packages (from mxnet) (0.8.4)\n",
      "Requirement already satisfied, skipping upgrade: requests<3,>=2.20.0 in /home/ec2-user/anaconda3/envs/mxnet_p36/lib/python3.6/site-packages (from mxnet) (2.20.0)\n",
      "Requirement already satisfied, skipping upgrade: pandas<1.0,>=0.24.0 in /home/ec2-user/anaconda3/envs/mxnet_p36/lib/python3.6/site-packages (from autogluon) (0.24.2)\n",
      "Requirement already satisfied, skipping upgrade: Pillow<=6.2.1 in /home/ec2-user/anaconda3/envs/mxnet_p36/lib/python3.6/site-packages (from autogluon) (5.2.0)\n",
      "Requirement already satisfied, skipping upgrade: cython in /home/ec2-user/anaconda3/envs/mxnet_p36/lib/python3.6/site-packages (from autogluon) (0.28.2)\n",
      "Requirement already satisfied, skipping upgrade: tqdm>=4.38.0 in /home/ec2-user/anaconda3/envs/mxnet_p36/lib/python3.6/site-packages (from autogluon) (4.42.1)\n",
      "Requirement already satisfied, skipping upgrade: ConfigSpace<=0.4.10 in /home/ec2-user/anaconda3/envs/mxnet_p36/lib/python3.6/site-packages (from autogluon) (0.4.10)\n",
      "Requirement already satisfied, skipping upgrade: boto3==1.9.187 in /home/ec2-user/anaconda3/envs/mxnet_p36/lib/python3.6/site-packages (from autogluon) (1.9.187)\n",
      "Requirement already satisfied, skipping upgrade: gluoncv>=0.5.0 in /home/ec2-user/anaconda3/envs/mxnet_p36/lib/python3.6/site-packages (from autogluon) (0.6.0)\n",
      "Requirement already satisfied, skipping upgrade: lightgbm==2.3.0 in /home/ec2-user/anaconda3/envs/mxnet_p36/lib/python3.6/site-packages (from autogluon) (2.3.0)\n",
      "Requirement already satisfied, skipping upgrade: cryptography>=2.8 in /home/ec2-user/anaconda3/envs/mxnet_p36/lib/python3.6/site-packages (from autogluon) (2.8)\n",
      "Requirement already satisfied, skipping upgrade: paramiko>=2.5.0 in /home/ec2-user/anaconda3/envs/mxnet_p36/lib/python3.6/site-packages (from autogluon) (2.6.0)\n",
      "Requirement already satisfied, skipping upgrade: distributed==2.6.0 in /home/ec2-user/anaconda3/envs/mxnet_p36/lib/python3.6/site-packages (from autogluon) (2.6.0)\n",
      "Requirement already satisfied, skipping upgrade: scikit-optimize in /home/ec2-user/anaconda3/envs/mxnet_p36/lib/python3.6/site-packages (from autogluon) (0.7.2)\n",
      "Requirement already satisfied, skipping upgrade: gluonnlp==0.8.1 in /home/ec2-user/anaconda3/envs/mxnet_p36/lib/python3.6/site-packages (from autogluon) (0.8.1)\n",
      "Requirement already satisfied, skipping upgrade: psutil>=5.0.0 in /home/ec2-user/anaconda3/envs/mxnet_p36/lib/python3.6/site-packages (from autogluon) (5.6.3)\n",
      "Requirement already satisfied, skipping upgrade: matplotlib in /home/ec2-user/anaconda3/envs/mxnet_p36/lib/python3.6/site-packages (from autogluon) (3.0.3)\n",
      "Requirement already satisfied, skipping upgrade: catboost in /home/ec2-user/anaconda3/envs/mxnet_p36/lib/python3.6/site-packages (from autogluon) (0.21)\n",
      "Requirement already satisfied, skipping upgrade: tornado>=5.0.1 in /home/ec2-user/anaconda3/envs/mxnet_p36/lib/python3.6/site-packages (from autogluon) (5.0.2)\n",
      "Requirement already satisfied, skipping upgrade: scipy>=1.3.3 in /home/ec2-user/anaconda3/envs/mxnet_p36/lib/python3.6/site-packages (from autogluon) (1.4.1)\n",
      "Requirement already satisfied, skipping upgrade: dask==2.6.0 in /home/ec2-user/anaconda3/envs/mxnet_p36/lib/python3.6/site-packages (from autogluon) (2.6.0)\n",
      "Requirement already satisfied, skipping upgrade: scikit-learn==0.21.2 in /home/ec2-user/anaconda3/envs/mxnet_p36/lib/python3.6/site-packages (from autogluon) (0.21.2)\n",
      "Requirement already satisfied, skipping upgrade: urllib3<1.25,>=1.21.1 in /home/ec2-user/anaconda3/envs/mxnet_p36/lib/python3.6/site-packages (from requests<3,>=2.20.0->mxnet) (1.23)\n",
      "Requirement already satisfied, skipping upgrade: idna<2.8,>=2.5 in /home/ec2-user/anaconda3/envs/mxnet_p36/lib/python3.6/site-packages (from requests<3,>=2.20.0->mxnet) (2.6)\n",
      "Requirement already satisfied, skipping upgrade: chardet<3.1.0,>=3.0.2 in /home/ec2-user/anaconda3/envs/mxnet_p36/lib/python3.6/site-packages (from requests<3,>=2.20.0->mxnet) (3.0.4)\n",
      "Requirement already satisfied, skipping upgrade: certifi>=2017.4.17 in /home/ec2-user/anaconda3/envs/mxnet_p36/lib/python3.6/site-packages (from requests<3,>=2.20.0->mxnet) (2019.9.11)\n",
      "Requirement already satisfied, skipping upgrade: pytz>=2011k in /home/ec2-user/anaconda3/envs/mxnet_p36/lib/python3.6/site-packages (from pandas<1.0,>=0.24.0->autogluon) (2018.4)\n",
      "Requirement already satisfied, skipping upgrade: python-dateutil>=2.5.0 in /home/ec2-user/anaconda3/envs/mxnet_p36/lib/python3.6/site-packages (from pandas<1.0,>=0.24.0->autogluon) (2.7.3)\n",
      "Requirement already satisfied, skipping upgrade: typing in /home/ec2-user/anaconda3/envs/mxnet_p36/lib/python3.6/site-packages (from ConfigSpace<=0.4.10->autogluon) (3.6.4)\n",
      "Requirement already satisfied, skipping upgrade: pyparsing in /home/ec2-user/anaconda3/envs/mxnet_p36/lib/python3.6/site-packages (from ConfigSpace<=0.4.10->autogluon) (2.2.0)\n",
      "Requirement already satisfied, skipping upgrade: jmespath<1.0.0,>=0.7.1 in /home/ec2-user/anaconda3/envs/mxnet_p36/lib/python3.6/site-packages (from boto3==1.9.187->autogluon) (0.9.4)\n",
      "Requirement already satisfied, skipping upgrade: s3transfer<0.3.0,>=0.2.0 in /home/ec2-user/anaconda3/envs/mxnet_p36/lib/python3.6/site-packages (from boto3==1.9.187->autogluon) (0.2.1)\n",
      "Requirement already satisfied, skipping upgrade: botocore<1.13.0,>=1.12.187 in /home/ec2-user/anaconda3/envs/mxnet_p36/lib/python3.6/site-packages (from boto3==1.9.187->autogluon) (1.12.253)\n",
      "Requirement already satisfied, skipping upgrade: portalocker in /home/ec2-user/anaconda3/envs/mxnet_p36/lib/python3.6/site-packages (from gluoncv>=0.5.0->autogluon) (1.5.2)\n",
      "Requirement already satisfied, skipping upgrade: cffi!=1.11.3,>=1.8 in /home/ec2-user/anaconda3/envs/mxnet_p36/lib/python3.6/site-packages (from cryptography>=2.8->autogluon) (1.11.5)\n",
      "Requirement already satisfied, skipping upgrade: six>=1.4.1 in /home/ec2-user/anaconda3/envs/mxnet_p36/lib/python3.6/site-packages (from cryptography>=2.8->autogluon) (1.11.0)\n",
      "Requirement already satisfied, skipping upgrade: pynacl>=1.0.1 in /home/ec2-user/anaconda3/envs/mxnet_p36/lib/python3.6/site-packages (from paramiko>=2.5.0->autogluon) (1.3.0)\n",
      "Requirement already satisfied, skipping upgrade: bcrypt>=3.1.3 in /home/ec2-user/anaconda3/envs/mxnet_p36/lib/python3.6/site-packages (from paramiko>=2.5.0->autogluon) (3.1.7)\n",
      "Requirement already satisfied, skipping upgrade: msgpack in /home/ec2-user/anaconda3/envs/mxnet_p36/lib/python3.6/site-packages (from distributed==2.6.0->autogluon) (0.6.0)\n",
      "Requirement already satisfied, skipping upgrade: zict>=0.1.3 in /home/ec2-user/anaconda3/envs/mxnet_p36/lib/python3.6/site-packages (from distributed==2.6.0->autogluon) (0.1.3)\n",
      "Requirement already satisfied, skipping upgrade: sortedcontainers!=2.0.0,!=2.0.1 in /home/ec2-user/anaconda3/envs/mxnet_p36/lib/python3.6/site-packages (from distributed==2.6.0->autogluon) (1.5.10)\n",
      "Requirement already satisfied, skipping upgrade: click>=6.6 in /home/ec2-user/anaconda3/envs/mxnet_p36/lib/python3.6/site-packages (from distributed==2.6.0->autogluon) (6.7)\n",
      "Requirement already satisfied, skipping upgrade: tblib in /home/ec2-user/anaconda3/envs/mxnet_p36/lib/python3.6/site-packages (from distributed==2.6.0->autogluon) (1.3.2)\n",
      "Requirement already satisfied, skipping upgrade: pyyaml in /home/ec2-user/anaconda3/envs/mxnet_p36/lib/python3.6/site-packages (from distributed==2.6.0->autogluon) (3.12)\n",
      "Requirement already satisfied, skipping upgrade: toolz>=0.7.4 in /home/ec2-user/anaconda3/envs/mxnet_p36/lib/python3.6/site-packages (from distributed==2.6.0->autogluon) (0.9.0)\n",
      "Requirement already satisfied, skipping upgrade: cloudpickle>=0.2.2 in /home/ec2-user/anaconda3/envs/mxnet_p36/lib/python3.6/site-packages (from distributed==2.6.0->autogluon) (0.5.3)\n",
      "Requirement already satisfied, skipping upgrade: joblib in /home/ec2-user/anaconda3/envs/mxnet_p36/lib/python3.6/site-packages (from scikit-optimize->autogluon) (0.14.1)\n",
      "Requirement already satisfied, skipping upgrade: pyaml in /home/ec2-user/anaconda3/envs/mxnet_p36/lib/python3.6/site-packages (from scikit-optimize->autogluon) (19.12.0)\n",
      "Requirement already satisfied, skipping upgrade: cycler>=0.10 in /home/ec2-user/anaconda3/envs/mxnet_p36/lib/python3.6/site-packages (from matplotlib->autogluon) (0.10.0)\n",
      "Requirement already satisfied, skipping upgrade: kiwisolver>=1.0.1 in /home/ec2-user/anaconda3/envs/mxnet_p36/lib/python3.6/site-packages (from matplotlib->autogluon) (1.0.1)\n",
      "Requirement already satisfied, skipping upgrade: plotly in /home/ec2-user/anaconda3/envs/mxnet_p36/lib/python3.6/site-packages (from catboost->autogluon) (4.3.0)\n",
      "Requirement already satisfied, skipping upgrade: docutils<0.16,>=0.10 in /home/ec2-user/anaconda3/envs/mxnet_p36/lib/python3.6/site-packages (from botocore<1.13.0,>=1.12.187->boto3==1.9.187->autogluon) (0.14)\n",
      "Requirement already satisfied, skipping upgrade: pycparser in /home/ec2-user/anaconda3/envs/mxnet_p36/lib/python3.6/site-packages (from cffi!=1.11.3,>=1.8->cryptography>=2.8->autogluon) (2.18)\n",
      "Requirement already satisfied, skipping upgrade: heapdict in /home/ec2-user/anaconda3/envs/mxnet_p36/lib/python3.6/site-packages (from zict>=0.1.3->distributed==2.6.0->autogluon) (1.0.0)\n",
      "Requirement already satisfied, skipping upgrade: setuptools in /home/ec2-user/anaconda3/envs/mxnet_p36/lib/python3.6/site-packages (from kiwisolver>=1.0.1->matplotlib->autogluon) (39.1.0)\n",
      "Requirement already satisfied, skipping upgrade: retrying>=1.3.3 in /home/ec2-user/anaconda3/envs/mxnet_p36/lib/python3.6/site-packages (from plotly->catboost->autogluon) (1.3.3)\n"
     ]
    }
   ],
   "source": [
    "!pip install --upgrade pip\n",
    "!pip install --upgrade mxnet autogluon\n",
    "\n",
    "import warnings\n",
    "warnings.filterwarnings('ignore')\n"
   ]
  },
  {
   "cell_type": "markdown",
   "metadata": {},
   "source": [
    "### 2. AutoGluon TabularPrediction on raw unprocessed datasets"
   ]
  },
  {
   "cell_type": "markdown",
   "metadata": {},
   "source": [
    "#### 2.1 Reading and getting the dataset in AutoGluon TabularPrediction friendly format\n",
    "\n",
    "We first use the __pandas__ library to read our raw unpreprocessed __review_dataset__ and split into training and testing datasets for modeling with __AutoGluon TabularPrediction__:"
   ]
  },
  {
   "cell_type": "code",
   "execution_count": 2,
   "metadata": {},
   "outputs": [],
   "source": [
    "import pandas as pd\n",
    "from sklearn.utils import shuffle\n",
    "from sklearn.model_selection import train_test_split\n",
    "\n",
    "df = pd.read_csv('../../DATA/NLP/EMBK-NLP-REVIEW-DATA-CSV.csv')\n",
    "\n",
    "X_train, X_test, y_train, y_test = train_test_split(df.drop(\"log_votes\", axis =1), df[\"log_votes\"],\n",
    "                                                  test_size=0.10,  # 10% test, 90% tranining\n",
    "                                                  shuffle=True # Shuffle the whole dataset\n",
    "                                                 )\n",
    "\n",
    "pd.concat([X_train, y_train], axis = 1).to_csv('review_dataset_AG_training.csv', index=False)\n",
    "pd.concat([X_test, y_test], axis = 1).to_csv('review_dataset_AG_test.csv', index=False)\n"
   ]
  },
  {
   "cell_type": "markdown",
   "metadata": {},
   "source": [
    "#### 2.2 Use AutoGluon TabularPrediction to train a regressor to predict the log_votes field\n",
    "\n",
    "Load the raw unpreprocessed training and test datasets to train a regressor with __AutoGluon TabularPrediction__:"
   ]
  },
  {
   "cell_type": "code",
   "execution_count": 3,
   "metadata": {},
   "outputs": [
    {
     "name": "stderr",
     "output_type": "stream",
     "text": [
      "Loaded data from: review_dataset_AG_training.csv | Columns = 6 / 6 | Rows = 49500 -> 49500\n",
      "Loaded data from: review_dataset_AG_test.csv | Columns = 6 / 6 | Rows = 5500 -> 5500\n",
      "No output_directory specified. Models will be saved in: AutogluonModels/ag-20200212_023241/\n",
      "Beginning AutoGluon training ...\n",
      "AutoGluon will save models to AutogluonModels/ag-20200212_023241/\n",
      "Train Data Rows:    1000\n",
      "Train Data Columns: 6\n",
      "Preprocessing data ...\n",
      "Here are the first 10 unique label values in your data:  [0.         1.79175947 2.39789527 3.21887582 2.30258509 2.56494936\n",
      " 2.89037176 1.09861229 4.18965474 2.63905733]\n",
      "AutoGluon infers your prediction problem is: regression  (because dtype of label-column == float and label-values can't be converted to int)\n",
      "If this is wrong, please specify `problem_type` argument in fit() instead (You may specify problem_type as one of: ['binary', 'multiclass', 'regression'])\n",
      "\n",
      "Feature Generator processed 1000 data points with 534 features\n",
      "Original Features:\n",
      "\tobject features: 2\n",
      "\tbool features: 1\n",
      "\tint features: 1\n",
      "\tfloat features: 1\n",
      "Generated Features:\n",
      "\tint features: 529\n",
      "All Features:\n",
      "\tobject features: 2\n",
      "\tbool features: 1\n",
      "\tint features: 530\n",
      "\tfloat features: 1\n",
      "\tData preprocessing and feature engineering runtime = 3.89s ...\n",
      "AutoGluon will gauge predictive performance using evaluation metric: r2\n",
      "To change this, specify the eval_metric argument of fit()\n",
      "AutoGluon will early stop models using evaluation metric: r2\n",
      "Fitting model: RandomForestRegressorMSE_STACKER_l0 ...\n",
      "\t0.3803\t = Validation r2 score\n",
      "\t99.67s\t = Training runtime\n",
      "\t0.0s\t = Validation runtime\n",
      "Fitting model: ExtraTreesRegressorMSE_STACKER_l0 ...\n",
      "\t0.3442\t = Validation r2 score\n",
      "\t105.08s\t = Training runtime\n",
      "\t0.0s\t = Validation runtime\n",
      "Fitting model: LightGBMRegressor_STACKER_l0 ...\n",
      "\t0.3749\t = Validation r2 score\n",
      "\t14.91s\t = Training runtime\n",
      "\t0.0s\t = Validation runtime\n",
      "Fitting model: CatboostRegressor_STACKER_l0 ...\n",
      "\t0.397\t = Validation r2 score\n",
      "\t87.34s\t = Training runtime\n",
      "\t0.0s\t = Validation runtime\n",
      "Fitting model: NeuralNetRegressor_STACKER_l0 ...\n",
      "\t0.1276\t = Validation r2 score\n",
      "\t57.29s\t = Training runtime\n",
      "\t0.0s\t = Validation runtime\n",
      "Fitting model: weighted_ensemble_k0_l1 ...\n",
      "\t0.4053\t = Validation r2 score\n",
      "\t0.27s\t = Training runtime\n",
      "\t0.0s\t = Validation runtime\n",
      "Fitting model: RandomForestRegressorMSE_STACKER_l1 ...\n",
      "\t0.3616\t = Validation r2 score\n",
      "\t124.8s\t = Training runtime\n",
      "\t0.0s\t = Validation runtime\n",
      "Fitting model: ExtraTreesRegressorMSE_STACKER_l1 ...\n",
      "\t0.3505\t = Validation r2 score\n",
      "\t117.97s\t = Training runtime\n",
      "\t0.0s\t = Validation runtime\n",
      "Fitting model: LightGBMRegressor_STACKER_l1 ...\n",
      "\t0.3341\t = Validation r2 score\n",
      "\t14.2s\t = Training runtime\n",
      "\t0.0s\t = Validation runtime\n",
      "Fitting model: CatboostRegressor_STACKER_l1 ...\n",
      "\t0.3849\t = Validation r2 score\n",
      "\t50.36s\t = Training runtime\n",
      "\t0.0s\t = Validation runtime\n",
      "Fitting model: NeuralNetRegressor_STACKER_l1 ...\n",
      "\t0.1425\t = Validation r2 score\n",
      "\t74.74s\t = Training runtime\n",
      "\t0.0s\t = Validation runtime\n",
      "Fitting model: weighted_ensemble_k0_l2 ...\n",
      "\t0.3866\t = Validation r2 score\n",
      "\t0.27s\t = Training runtime\n",
      "\t0.0s\t = Validation runtime\n",
      "AutoGluon training complete, total runtime = 750.97s ...\n"
     ]
    }
   ],
   "source": [
    "from autogluon import TabularPrediction as task\n",
    "\n",
    "train_data = task.Dataset(file_path='review_dataset_AG_training.csv')\n",
    "test_data = task.Dataset(file_path='review_dataset_AG_test.csv')\n",
    "\n",
    "# For speed, grab a small subset of the dataset\n",
    "train_data = train_data.head(1000)\n",
    "\n",
    "# Also for speed, change the default hyperparameters\n",
    "# hyp = {'NN': {'num_epochs': 500}, 'GBM': {'num_boost_round': 10000}, 'CAT': {'iterations': 10000}, 'RF': {'n_estimators': 300}, 'XT': {'n_estimators': 300}, 'KNN': {}, 'custom': ['GBM']}\n",
    "hyp = {'NN':{}, 'GBM':{}, 'CAT':{}, 'RF':{}, 'XT':{}}\n",
    "\n",
    "# Decrease training time by up to 20x, switching from AutoGluon's default attempt to select optimal num_bagging_folds and stack_ensemble_levels based on data properties. \n",
    "auto_stack = True \n",
    "\n",
    "predictor = task.fit(train_data = train_data, label = 'log_votes', \n",
    "                     eval_metric = 'r2', auto_stack = auto_stack, hyperparameters = hyp)\n",
    "performance = predictor.predict(test_data)"
   ]
  },
  {
   "cell_type": "markdown",
   "metadata": {},
   "source": [
    "#### 2.3 Evaluate performance with TabularPrediction\n",
    "\n",
    "Let's now use our trained models to make predictions on the test dataset, and then evaluate performance:"
   ]
  },
  {
   "cell_type": "code",
   "execution_count": 4,
   "metadata": {},
   "outputs": [
    {
     "name": "stderr",
     "output_type": "stream",
     "text": [
      "Evaluation: r2 on test data: 0.360751\n",
      "Evaluations on test data:\n",
      "{\n",
      "    \"r2\": 0.3607512139913043,\n",
      "    \"mean_absolute_error\": 0.5380760051322063,\n",
      "    \"explained_variance_score\": 0.36089642865659965,\n",
      "    \"r2_score\": 0.3607512139913043,\n",
      "    \"pearson_correlation\": 0.6023670360692323,\n",
      "    \"mean_squared_error\": 0.6144549193733427,\n",
      "    \"median_absolute_error\": 0.3202014741712549\n",
      "}\n"
     ]
    }
   ],
   "source": [
    "y_pred = predictor.predict(test_data)\n",
    "# print(\"Predictions:  \", y_pred)\n",
    "\n",
    "import pandas as pd \n",
    "y_test = test_data['log_votes']\n",
    "performance = predictor.evaluate_predictions(y_true=y_test, y_pred=y_pred, auxiliary_metrics=True)\n"
   ]
  },
  {
   "cell_type": "markdown",
   "metadata": {},
   "source": [
    "Besides inference, the predictor object returned by __fit()__ can also be used to view a summary of what happened during fit."
   ]
  },
  {
   "cell_type": "code",
   "execution_count": 5,
   "metadata": {},
   "outputs": [
    {
     "name": "stdout",
     "output_type": "stream",
     "text": [
      "*** Summary of fit() ***\n",
      "Number of models trained: 12\n",
      "Types of models trained: \n",
      "{'WeightedEnsembleModel', 'StackerEnsembleModel'}\n",
      "Validation performance of individual models: {'RandomForestRegressorMSE_STACKER_l0': 0.3803287967865676, 'ExtraTreesRegressorMSE_STACKER_l0': 0.3441682556111162, 'LightGBMRegressor_STACKER_l0': 0.3749271266131676, 'CatboostRegressor_STACKER_l0': 0.3970470855490632, 'NeuralNetRegressor_STACKER_l0': 0.12756396725219166, 'weighted_ensemble_k0_l1': 0.405317400521376, 'RandomForestRegressorMSE_STACKER_l1': 0.3615558995393131, 'ExtraTreesRegressorMSE_STACKER_l1': 0.3504722707483374, 'LightGBMRegressor_STACKER_l1': 0.33409715227542347, 'CatboostRegressor_STACKER_l1': 0.3849396903314025, 'NeuralNetRegressor_STACKER_l1': 0.14246165414008327, 'weighted_ensemble_k0_l2': 0.3866349523288962}\n",
      "Best model (based on validation performance): weighted_ensemble_k0_l1\n",
      "Hyperparameter-tuning used: False\n",
      "Bagging used: True  (with 10 folds)\n",
      "Stack-ensembling used: True  (with 1 levels)\n",
      "User-specified hyperparameters:\n",
      "{'NN': {}, 'GBM': {}, 'CAT': {}, 'RF': {}, 'XT': {}}\n",
      "Plot summary of models saved to file: SummaryOfModels.html\n",
      "*** End of fit() summary ***\n"
     ]
    }
   ],
   "source": [
    "results = predictor.fit_summary()\n"
   ]
  },
  {
   "cell_type": "markdown",
   "metadata": {},
   "source": [
    "From this summary, we can see that __AutoGluon__ trained many different types of models as well as an ensemble of the best-performing models. The summary also describes the actual models that were trained during fit and how well each model performed on the held-out validation data. We can also view what properties __AutoGluon__ automatically inferred about our prediction task, along with more details on features preprocessing:"
   ]
  },
  {
   "cell_type": "code",
   "execution_count": 6,
   "metadata": {},
   "outputs": [
    {
     "name": "stdout",
     "output_type": "stream",
     "text": [
      "AutoGluon infers problem type is:  regression\n",
      "AutoGluon categorized the features as:  {'nlp': ['reviewText', 'summary'], 'vectorizers': ['__nlp__.10', '__nlp__.30', '__nlp__.able', '__nlp__.able to', '__nlp__.about', '__nlp__.access', '__nlp__.account', '__nlp__.actually', '__nlp__.add', '__nlp__.after', '__nlp__.again', '__nlp__.all', '__nlp__.all of', '__nlp__.all the', '__nlp__.almost', '__nlp__.already', '__nlp__.also', '__nlp__.although', '__nlp__.always', '__nlp__.am', '__nlp__.amazon', '__nlp__.an', '__nlp__.and', '__nlp__.and easy', '__nlp__.and have', '__nlp__.and it', '__nlp__.and the', '__nlp__.and then', '__nlp__.and was', '__nlp__.another', '__nlp__.any', '__nlp__.anyone', '__nlp__.are', '__nlp__.around', '__nlp__.as', '__nlp__.at', '__nlp__.at all', '__nlp__.at the', '__nlp__.available', '__nlp__.back', '__nlp__.back to', '__nlp__.bad', '__nlp__.be', '__nlp__.because', '__nlp__.been', '__nlp__.been using', '__nlp__.before', '__nlp__.being', '__nlp__.best', '__nlp__.better', '__nlp__.bit', '__nlp__.block', '__nlp__.both', '__nlp__.bought', '__nlp__.business', '__nlp__.but', '__nlp__.but it', '__nlp__.buy', '__nlp__.buying', '__nlp__.by', '__nlp__.can', '__nlp__.can be', '__nlp__.cd', '__nlp__.change', '__nlp__.company', '__nlp__.completely', '__nlp__.computer', '__nlp__.computers', '__nlp__.cost', '__nlp__.could', '__nlp__.customer', '__nlp__.data', '__nlp__.days', '__nlp__.deal', '__nlp__.did', '__nlp__.did not', '__nlp__.didn', '__nlp__.different', '__nlp__.difficult', '__nlp__.do', '__nlp__.do not', '__nlp__.does', '__nlp__.does not', '__nlp__.doesn', '__nlp__.doing', '__nlp__.don', '__nlp__.done', '__nlp__.down', '__nlp__.download', '__nlp__.downloaded', '__nlp__.drive', '__nlp__.dvd', '__nlp__.easy', '__nlp__.easy to', '__nlp__.easy to use', '__nlp__.end', '__nlp__.etc', '__nlp__.even', '__nlp__.ever', '__nlp__.every', '__nlp__.everything', '__nlp__.excellent', '__nlp__.far', '__nlp__.fast', '__nlp__.feature', '__nlp__.features', '__nlp__.few', '__nlp__.file', '__nlp__.files', '__nlp__.finally', '__nlp__.find', '__nlp__.fine', '__nlp__.first', '__nlp__.five', '__nlp__.five stars', '__nlp__.for', '__nlp__.for me', '__nlp__.for my', '__nlp__.for the', '__nlp__.found', '__nlp__.four', '__nlp__.four stars', '__nlp__.free', '__nlp__.from', '__nlp__.from the', '__nlp__.full', '__nlp__.fun', '__nlp__.game', '__nlp__.get', '__nlp__.get the', '__nlp__.getting', '__nlp__.give', '__nlp__.go', '__nlp__.going', '__nlp__.going to', '__nlp__.good', '__nlp__.got', '__nlp__.great', '__nlp__.had', '__nlp__.had to', '__nlp__.happy', '__nlp__.hard', '__nlp__.has', '__nlp__.has been', '__nlp__.have', '__nlp__.have been', '__nlp__.have the', '__nlp__.have to', '__nlp__.have used', '__nlp__.having', '__nlp__.help', '__nlp__.here', '__nlp__.highly', '__nlp__.home', '__nlp__.hours', '__nlp__.how', '__nlp__.how to', '__nlp__.however', '__nlp__.if', '__nlp__.if you', '__nlp__.if you are', '__nlp__.in', '__nlp__.in my', '__nlp__.in the', '__nlp__.information', '__nlp__.install', '__nlp__.installation', '__nlp__.installed', '__nlp__.instead', '__nlp__.interface', '__nlp__.internet', '__nlp__.into', '__nlp__.intuit', '__nlp__.is', '__nlp__.is great', '__nlp__.is no', '__nlp__.is not', '__nlp__.is that', '__nlp__.is the', '__nlp__.is very', '__nlp__.issue', '__nlp__.issues', '__nlp__.it', '__nlp__.it and', '__nlp__.it does', '__nlp__.it for', '__nlp__.it has', '__nlp__.it is', '__nlp__.it on', '__nlp__.it to', '__nlp__.it was', '__nlp__.it will', '__nlp__.it works', '__nlp__.it would', '__nlp__.its', '__nlp__.job', '__nlp__.just', '__nlp__.keep', '__nlp__.know', '__nlp__.laptop', '__nlp__.last', '__nlp__.learn', '__nlp__.learning', '__nlp__.least', '__nlp__.less', '__nlp__.let', '__nlp__.like', '__nlp__.little', '__nlp__.ll', '__nlp__.long', '__nlp__.longer', '__nlp__.look', '__nlp__.looking', '__nlp__.lot', '__nlp__.lot of', '__nlp__.love', '__nlp__.mac', '__nlp__.made', '__nlp__.make', '__nlp__.makes', '__nlp__.making', '__nlp__.many', '__nlp__.may', '__nlp__.me', '__nlp__.me to', '__nlp__.microsoft', '__nlp__.minutes', '__nlp__.money', '__nlp__.months', '__nlp__.more', '__nlp__.more than', '__nlp__.most', '__nlp__.much', '__nlp__.must', '__nlp__.my', '__nlp__.my computer', '__nlp__.need', '__nlp__.need to', '__nlp__.needed', '__nlp__.needs', '__nlp__.never', '__nlp__.new', '__nlp__.next', '__nlp__.nice', '__nlp__.no', '__nlp__.norton', '__nlp__.not', '__nlp__.nothing', '__nlp__.now', '__nlp__.number', '__nlp__.of', '__nlp__.of my', '__nlp__.of the', '__nlp__.of this', '__nlp__.off', '__nlp__.office', '__nlp__.old', '__nlp__.on', '__nlp__.on my', '__nlp__.on the', '__nlp__.once', '__nlp__.one', '__nlp__.one of', '__nlp__.online', '__nlp__.only', '__nlp__.or', '__nlp__.other', '__nlp__.our', '__nlp__.out', '__nlp__.out of', '__nlp__.over', '__nlp__.past', '__nlp__.pay', '__nlp__.pc', '__nlp__.people', '__nlp__.point', '__nlp__.previous', '__nlp__.price', '__nlp__.pro', '__nlp__.problem', '__nlp__.problems', '__nlp__.process', '__nlp__.product', '__nlp__.product is', '__nlp__.products', '__nlp__.program', '__nlp__.programs', '__nlp__.purchase', '__nlp__.purchased', '__nlp__.put', '__nlp__.quicken', '__nlp__.re', '__nlp__.read', '__nlp__.really', '__nlp__.recommend', '__nlp__.return', '__nlp__.review', '__nlp__.reviews', '__nlp__.right', '__nlp__.run', '__nlp__.running', '__nlp__.said', '__nlp__.same', '__nlp__.say', '__nlp__.security', '__nlp__.see', '__nlp__.seems', '__nlp__.service', '__nlp__.set', '__nlp__.several', '__nlp__.should', '__nlp__.simple', '__nlp__.since', '__nlp__.so', '__nlp__.so far', '__nlp__.software', '__nlp__.software is', '__nlp__.some', '__nlp__.something', '__nlp__.star', '__nlp__.stars', '__nlp__.start', '__nlp__.still', '__nlp__.such', '__nlp__.support', '__nlp__.sure', '__nlp__.system', '__nlp__.take', '__nlp__.tax', '__nlp__.than', '__nlp__.that', '__nlp__.that is', '__nlp__.that it', '__nlp__.that the', '__nlp__.that you', '__nlp__.the', '__nlp__.the best', '__nlp__.the first', '__nlp__.the most', '__nlp__.the new', '__nlp__.the only', '__nlp__.the other', '__nlp__.the product', '__nlp__.the program', '__nlp__.the same', '__nlp__.the software', '__nlp__.the time', '__nlp__.their', '__nlp__.them', '__nlp__.then', '__nlp__.there', '__nlp__.there are', '__nlp__.there is', '__nlp__.these', '__nlp__.they', '__nlp__.thing', '__nlp__.things', '__nlp__.think', '__nlp__.this', '__nlp__.this is', '__nlp__.this product', '__nlp__.this program', '__nlp__.this software', '__nlp__.this was', '__nlp__.those', '__nlp__.though', '__nlp__.thought', '__nlp__.three', '__nlp__.through', '__nlp__.time', '__nlp__.times', '__nlp__.to', '__nlp__.to be', '__nlp__.to buy', '__nlp__.to do', '__nlp__.to find', '__nlp__.to get', '__nlp__.to have', '__nlp__.to install', '__nlp__.to learn', '__nlp__.to my', '__nlp__.to the', '__nlp__.to use', '__nlp__.to use and', '__nlp__.to work', '__nlp__.too', '__nlp__.took', '__nlp__.tried', '__nlp__.try', '__nlp__.trying', '__nlp__.trying to', '__nlp__.turbo', '__nlp__.turbo tax', '__nlp__.turbotax', '__nlp__.two', '__nlp__.up', '__nlp__.update', '__nlp__.updates', '__nlp__.upgrade', '__nlp__.use', '__nlp__.use and', '__nlp__.use it', '__nlp__.use the', '__nlp__.used', '__nlp__.user', '__nlp__.using', '__nlp__.ve', '__nlp__.version', '__nlp__.version of', '__nlp__.versions', '__nlp__.very', '__nlp__.very good', '__nlp__.video', '__nlp__.want', '__nlp__.want to', '__nlp__.was', '__nlp__.way', '__nlp__.way to', '__nlp__.we', '__nlp__.website', '__nlp__.well', '__nlp__.were', '__nlp__.what', '__nlp__.when', '__nlp__.where', '__nlp__.which', '__nlp__.while', '__nlp__.who', '__nlp__.why', '__nlp__.will', '__nlp__.will be', '__nlp__.will not', '__nlp__.windows', '__nlp__.with', '__nlp__.with it', '__nlp__.with the', '__nlp__.with this', '__nlp__.without', '__nlp__.won', '__nlp__.word', '__nlp__.work', '__nlp__.worked', '__nlp__.working', '__nlp__.works', '__nlp__.worth', '__nlp__.would', '__nlp__.would be', '__nlp__.would not', '__nlp__.xp', '__nlp__.year', '__nlp__.years', '__nlp__.years and', '__nlp__.yet', '__nlp__.you', '__nlp__.you are', '__nlp__.you can', '__nlp__.you have', '__nlp__.you re', '__nlp__.you to', '__nlp__.you want', '__nlp__.you will', '__nlp__.your', '__nlp__._total_'], 'object': ['reviewText', 'summary'], 'bool': ['verified'], 'int': ['time', 'summary.symbol_count./', 'reviewText.symbol_ratio.$', 'reviewText.symbol_ratio.&', 'summary.lower_ratio', 'reviewText.symbol_ratio.=', 'reviewText.symbol_ratio.*', 'reviewText.word_count', 'summary.symbol_ratio.;', 'reviewText.symbol_count.=', 'summary.symbol_count. ', 'reviewText.symbol_count.*', 'summary.symbol_count.?', 'summary.symbol_count.:', 'summary.symbol_count.;', 'summary.symbol_ratio.:', 'summary.capital_ratio', 'summary.symbol_ratio.-', 'summary.digit_ratio', 'reviewText.symbol_ratio..', 'reviewText.symbol_ratio.#', 'summary.char_count', 'summary.symbol_ratio.!', 'summary.symbol_count.&', 'reviewText.lower_ratio', 'summary.symbol_count.$', 'reviewText.symbol_ratio.;', 'reviewText.symbol_ratio.%', 'summary.symbol_count.!', 'reviewText.symbol_ratio./', 'reviewText.symbol_count.;', 'reviewText.symbol_ratio.?', 'reviewText.symbol_count.&', 'reviewText.symbol_count./', 'reviewText.symbol_count.@', 'summary.symbol_ratio.=', 'reviewText.digit_ratio', 'summary.symbol_ratio.$', 'summary.symbol_ratio..', 'reviewText.symbol_ratio.:', 'reviewText.symbol_count. ', 'reviewText.symbol_count.-', 'reviewText.symbol_count.:', 'reviewText.symbol_ratio.!', 'summary.symbol_count.#', 'reviewText.special_ratio', 'reviewText.char_count', 'summary.symbol_ratio. ', 'summary.symbol_ratio.&', 'summary.symbol_count..', 'reviewText.symbol_ratio.-', 'reviewText.capital_ratio', 'summary.symbol_ratio.?', 'reviewText.symbol_count.%', 'summary.symbol_count.-', 'reviewText.symbol_count.$', 'summary.symbol_ratio./', 'reviewText.symbol_count.!', 'summary.word_count', 'reviewText.symbol_ratio. ', 'reviewText.symbol_count..', 'summary.special_ratio', 'reviewText.symbol_ratio.@', 'summary.symbol_count.=', 'reviewText.symbol_count.#', 'summary.symbol_ratio.#', 'reviewText.symbol_count.?'], 'float': ['rating']}\n"
     ]
    }
   ],
   "source": [
    "print(\"AutoGluon infers problem type is: \", predictor.problem_type)\n",
    "print(\"AutoGluon categorized the features as: \", predictor.feature_types)\n"
   ]
  },
  {
   "cell_type": "code",
   "execution_count": 7,
   "metadata": {},
   "outputs": [],
   "source": [
    "# Deleting notebook artifacts\n",
    "! rm review_dataset_AG_training.csv\n",
    "! rm review_dataset_AG_test.csv\n",
    "! rm -rf AutogluonModels\n",
    "! rm -rf catboost_info\n",
    "! rm -rf dask-worker-space"
   ]
  }
 ],
 "metadata": {
  "kernelspec": {
   "display_name": "conda_mxnet_p36",
   "language": "python",
   "name": "conda_mxnet_p36"
  },
  "language_info": {
   "codemirror_mode": {
    "name": "ipython",
    "version": 3
   },
   "file_extension": ".py",
   "mimetype": "text/x-python",
   "name": "python",
   "nbconvert_exporter": "python",
   "pygments_lexer": "ipython3",
   "version": "3.6.5"
  }
 },
 "nbformat": 4,
 "nbformat_minor": 2
}
